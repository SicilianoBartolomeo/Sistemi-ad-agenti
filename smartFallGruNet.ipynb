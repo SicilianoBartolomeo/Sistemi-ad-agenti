{
  "nbformat": 4,
  "nbformat_minor": 0,
  "metadata": {
    "colab": {
      "provenance": [],
      "authorship_tag": "ABX9TyOWMwfGTxn744rf6bqHH+OY",
      "include_colab_link": true
    },
    "kernelspec": {
      "name": "python3",
      "display_name": "Python 3"
    },
    "language_info": {
      "name": "python"
    },
    "accelerator": "GPU",
    "gpuClass": "standard",
    "widgets": {
      "application/vnd.jupyter.widget-state+json": {
        "614cb55847b4445d95360f163433e9b3": {
          "model_module": "@jupyter-widgets/controls",
          "model_name": "HBoxModel",
          "model_module_version": "1.5.0",
          "state": {
            "_dom_classes": [],
            "_model_module": "@jupyter-widgets/controls",
            "_model_module_version": "1.5.0",
            "_model_name": "HBoxModel",
            "_view_count": null,
            "_view_module": "@jupyter-widgets/controls",
            "_view_module_version": "1.5.0",
            "_view_name": "HBoxView",
            "box_style": "",
            "children": [
              "IPY_MODEL_b29cb7611edf4870baee011af2548188",
              "IPY_MODEL_9ae22e337ff1477ca451dcf898c811e3",
              "IPY_MODEL_f32ce1dec1ca4c13868472e6ec9466fb"
            ],
            "layout": "IPY_MODEL_955a0653d44b42c4866e81b1bd25faef"
          }
        },
        "b29cb7611edf4870baee011af2548188": {
          "model_module": "@jupyter-widgets/controls",
          "model_name": "HTMLModel",
          "model_module_version": "1.5.0",
          "state": {
            "_dom_classes": [],
            "_model_module": "@jupyter-widgets/controls",
            "_model_module_version": "1.5.0",
            "_model_name": "HTMLModel",
            "_view_count": null,
            "_view_module": "@jupyter-widgets/controls",
            "_view_module_version": "1.5.0",
            "_view_name": "HTMLView",
            "description": "",
            "description_tooltip": null,
            "layout": "IPY_MODEL_ceae6ef75939434d927f0db9f2f33357",
            "placeholder": "​",
            "style": "IPY_MODEL_6022b7b9a10641e78220f3fcea720800",
            "value": "100%"
          }
        },
        "9ae22e337ff1477ca451dcf898c811e3": {
          "model_module": "@jupyter-widgets/controls",
          "model_name": "FloatProgressModel",
          "model_module_version": "1.5.0",
          "state": {
            "_dom_classes": [],
            "_model_module": "@jupyter-widgets/controls",
            "_model_module_version": "1.5.0",
            "_model_name": "FloatProgressModel",
            "_view_count": null,
            "_view_module": "@jupyter-widgets/controls",
            "_view_module_version": "1.5.0",
            "_view_name": "ProgressView",
            "bar_style": "success",
            "description": "",
            "description_tooltip": null,
            "layout": "IPY_MODEL_d6d1c60b74104add8877cc39f8837d9d",
            "max": 92741,
            "min": 0,
            "orientation": "horizontal",
            "style": "IPY_MODEL_0a6ee0e1144246eba95da8e44f9530d8",
            "value": 92741
          }
        },
        "f32ce1dec1ca4c13868472e6ec9466fb": {
          "model_module": "@jupyter-widgets/controls",
          "model_name": "HTMLModel",
          "model_module_version": "1.5.0",
          "state": {
            "_dom_classes": [],
            "_model_module": "@jupyter-widgets/controls",
            "_model_module_version": "1.5.0",
            "_model_name": "HTMLModel",
            "_view_count": null,
            "_view_module": "@jupyter-widgets/controls",
            "_view_module_version": "1.5.0",
            "_view_name": "HTMLView",
            "description": "",
            "description_tooltip": null,
            "layout": "IPY_MODEL_0e692d01682f4819b23dcf011f0c173a",
            "placeholder": "​",
            "style": "IPY_MODEL_f70d44c386df4ee88934870a10f91bfc",
            "value": " 92741/92741 [00:15&lt;00:00, 7190.20it/s]"
          }
        },
        "955a0653d44b42c4866e81b1bd25faef": {
          "model_module": "@jupyter-widgets/base",
          "model_name": "LayoutModel",
          "model_module_version": "1.2.0",
          "state": {
            "_model_module": "@jupyter-widgets/base",
            "_model_module_version": "1.2.0",
            "_model_name": "LayoutModel",
            "_view_count": null,
            "_view_module": "@jupyter-widgets/base",
            "_view_module_version": "1.2.0",
            "_view_name": "LayoutView",
            "align_content": null,
            "align_items": null,
            "align_self": null,
            "border": null,
            "bottom": null,
            "display": null,
            "flex": null,
            "flex_flow": null,
            "grid_area": null,
            "grid_auto_columns": null,
            "grid_auto_flow": null,
            "grid_auto_rows": null,
            "grid_column": null,
            "grid_gap": null,
            "grid_row": null,
            "grid_template_areas": null,
            "grid_template_columns": null,
            "grid_template_rows": null,
            "height": null,
            "justify_content": null,
            "justify_items": null,
            "left": null,
            "margin": null,
            "max_height": null,
            "max_width": null,
            "min_height": null,
            "min_width": null,
            "object_fit": null,
            "object_position": null,
            "order": null,
            "overflow": null,
            "overflow_x": null,
            "overflow_y": null,
            "padding": null,
            "right": null,
            "top": null,
            "visibility": null,
            "width": null
          }
        },
        "ceae6ef75939434d927f0db9f2f33357": {
          "model_module": "@jupyter-widgets/base",
          "model_name": "LayoutModel",
          "model_module_version": "1.2.0",
          "state": {
            "_model_module": "@jupyter-widgets/base",
            "_model_module_version": "1.2.0",
            "_model_name": "LayoutModel",
            "_view_count": null,
            "_view_module": "@jupyter-widgets/base",
            "_view_module_version": "1.2.0",
            "_view_name": "LayoutView",
            "align_content": null,
            "align_items": null,
            "align_self": null,
            "border": null,
            "bottom": null,
            "display": null,
            "flex": null,
            "flex_flow": null,
            "grid_area": null,
            "grid_auto_columns": null,
            "grid_auto_flow": null,
            "grid_auto_rows": null,
            "grid_column": null,
            "grid_gap": null,
            "grid_row": null,
            "grid_template_areas": null,
            "grid_template_columns": null,
            "grid_template_rows": null,
            "height": null,
            "justify_content": null,
            "justify_items": null,
            "left": null,
            "margin": null,
            "max_height": null,
            "max_width": null,
            "min_height": null,
            "min_width": null,
            "object_fit": null,
            "object_position": null,
            "order": null,
            "overflow": null,
            "overflow_x": null,
            "overflow_y": null,
            "padding": null,
            "right": null,
            "top": null,
            "visibility": null,
            "width": null
          }
        },
        "6022b7b9a10641e78220f3fcea720800": {
          "model_module": "@jupyter-widgets/controls",
          "model_name": "DescriptionStyleModel",
          "model_module_version": "1.5.0",
          "state": {
            "_model_module": "@jupyter-widgets/controls",
            "_model_module_version": "1.5.0",
            "_model_name": "DescriptionStyleModel",
            "_view_count": null,
            "_view_module": "@jupyter-widgets/base",
            "_view_module_version": "1.2.0",
            "_view_name": "StyleView",
            "description_width": ""
          }
        },
        "d6d1c60b74104add8877cc39f8837d9d": {
          "model_module": "@jupyter-widgets/base",
          "model_name": "LayoutModel",
          "model_module_version": "1.2.0",
          "state": {
            "_model_module": "@jupyter-widgets/base",
            "_model_module_version": "1.2.0",
            "_model_name": "LayoutModel",
            "_view_count": null,
            "_view_module": "@jupyter-widgets/base",
            "_view_module_version": "1.2.0",
            "_view_name": "LayoutView",
            "align_content": null,
            "align_items": null,
            "align_self": null,
            "border": null,
            "bottom": null,
            "display": null,
            "flex": null,
            "flex_flow": null,
            "grid_area": null,
            "grid_auto_columns": null,
            "grid_auto_flow": null,
            "grid_auto_rows": null,
            "grid_column": null,
            "grid_gap": null,
            "grid_row": null,
            "grid_template_areas": null,
            "grid_template_columns": null,
            "grid_template_rows": null,
            "height": null,
            "justify_content": null,
            "justify_items": null,
            "left": null,
            "margin": null,
            "max_height": null,
            "max_width": null,
            "min_height": null,
            "min_width": null,
            "object_fit": null,
            "object_position": null,
            "order": null,
            "overflow": null,
            "overflow_x": null,
            "overflow_y": null,
            "padding": null,
            "right": null,
            "top": null,
            "visibility": null,
            "width": null
          }
        },
        "0a6ee0e1144246eba95da8e44f9530d8": {
          "model_module": "@jupyter-widgets/controls",
          "model_name": "ProgressStyleModel",
          "model_module_version": "1.5.0",
          "state": {
            "_model_module": "@jupyter-widgets/controls",
            "_model_module_version": "1.5.0",
            "_model_name": "ProgressStyleModel",
            "_view_count": null,
            "_view_module": "@jupyter-widgets/base",
            "_view_module_version": "1.2.0",
            "_view_name": "StyleView",
            "bar_color": null,
            "description_width": ""
          }
        },
        "0e692d01682f4819b23dcf011f0c173a": {
          "model_module": "@jupyter-widgets/base",
          "model_name": "LayoutModel",
          "model_module_version": "1.2.0",
          "state": {
            "_model_module": "@jupyter-widgets/base",
            "_model_module_version": "1.2.0",
            "_model_name": "LayoutModel",
            "_view_count": null,
            "_view_module": "@jupyter-widgets/base",
            "_view_module_version": "1.2.0",
            "_view_name": "LayoutView",
            "align_content": null,
            "align_items": null,
            "align_self": null,
            "border": null,
            "bottom": null,
            "display": null,
            "flex": null,
            "flex_flow": null,
            "grid_area": null,
            "grid_auto_columns": null,
            "grid_auto_flow": null,
            "grid_auto_rows": null,
            "grid_column": null,
            "grid_gap": null,
            "grid_row": null,
            "grid_template_areas": null,
            "grid_template_columns": null,
            "grid_template_rows": null,
            "height": null,
            "justify_content": null,
            "justify_items": null,
            "left": null,
            "margin": null,
            "max_height": null,
            "max_width": null,
            "min_height": null,
            "min_width": null,
            "object_fit": null,
            "object_position": null,
            "order": null,
            "overflow": null,
            "overflow_x": null,
            "overflow_y": null,
            "padding": null,
            "right": null,
            "top": null,
            "visibility": null,
            "width": null
          }
        },
        "f70d44c386df4ee88934870a10f91bfc": {
          "model_module": "@jupyter-widgets/controls",
          "model_name": "DescriptionStyleModel",
          "model_module_version": "1.5.0",
          "state": {
            "_model_module": "@jupyter-widgets/controls",
            "_model_module_version": "1.5.0",
            "_model_name": "DescriptionStyleModel",
            "_view_count": null,
            "_view_module": "@jupyter-widgets/base",
            "_view_module_version": "1.2.0",
            "_view_name": "StyleView",
            "description_width": ""
          }
        },
        "189042e92d5e4095b2d2af3b4c601764": {
          "model_module": "@jupyter-widgets/controls",
          "model_name": "HBoxModel",
          "model_module_version": "1.5.0",
          "state": {
            "_dom_classes": [],
            "_model_module": "@jupyter-widgets/controls",
            "_model_module_version": "1.5.0",
            "_model_name": "HBoxModel",
            "_view_count": null,
            "_view_module": "@jupyter-widgets/controls",
            "_view_module_version": "1.5.0",
            "_view_name": "HBoxView",
            "box_style": "",
            "children": [
              "IPY_MODEL_243cb217a1e34942a1b4f761618f3172",
              "IPY_MODEL_5a7c8059fa8b4783a22b8678c9576fd1",
              "IPY_MODEL_37a8b57b92894016a1f7adfc68642293"
            ],
            "layout": "IPY_MODEL_9953a3b852ea44718f62a7907a5da500"
          }
        },
        "243cb217a1e34942a1b4f761618f3172": {
          "model_module": "@jupyter-widgets/controls",
          "model_name": "HTMLModel",
          "model_module_version": "1.5.0",
          "state": {
            "_dom_classes": [],
            "_model_module": "@jupyter-widgets/controls",
            "_model_module_version": "1.5.0",
            "_model_name": "HTMLModel",
            "_view_count": null,
            "_view_module": "@jupyter-widgets/controls",
            "_view_module_version": "1.5.0",
            "_view_name": "HTMLView",
            "description": "",
            "description_tooltip": null,
            "layout": "IPY_MODEL_bfbf28617ba943d180c4c698f30caf23",
            "placeholder": "​",
            "style": "IPY_MODEL_670cfe6acfd14e77aec6f8c4a5b7f2a0",
            "value": "100%"
          }
        },
        "5a7c8059fa8b4783a22b8678c9576fd1": {
          "model_module": "@jupyter-widgets/controls",
          "model_name": "FloatProgressModel",
          "model_module_version": "1.5.0",
          "state": {
            "_dom_classes": [],
            "_model_module": "@jupyter-widgets/controls",
            "_model_module_version": "1.5.0",
            "_model_name": "FloatProgressModel",
            "_view_count": null,
            "_view_module": "@jupyter-widgets/controls",
            "_view_module_version": "1.5.0",
            "_view_name": "ProgressView",
            "bar_style": "success",
            "description": "",
            "description_tooltip": null,
            "layout": "IPY_MODEL_25abf8e77edf4b9faa46eecb261bc31f",
            "max": 90985,
            "min": 0,
            "orientation": "horizontal",
            "style": "IPY_MODEL_cb9f09047acf4c13945722125930a231",
            "value": 90985
          }
        },
        "37a8b57b92894016a1f7adfc68642293": {
          "model_module": "@jupyter-widgets/controls",
          "model_name": "HTMLModel",
          "model_module_version": "1.5.0",
          "state": {
            "_dom_classes": [],
            "_model_module": "@jupyter-widgets/controls",
            "_model_module_version": "1.5.0",
            "_model_name": "HTMLModel",
            "_view_count": null,
            "_view_module": "@jupyter-widgets/controls",
            "_view_module_version": "1.5.0",
            "_view_name": "HTMLView",
            "description": "",
            "description_tooltip": null,
            "layout": "IPY_MODEL_04f4233df09b4f35a4eb6d681c79aef4",
            "placeholder": "​",
            "style": "IPY_MODEL_6e1045c28e354b6b98096bda1179b2a7",
            "value": " 90985/90985 [00:15&lt;00:00, 7499.54it/s]"
          }
        },
        "9953a3b852ea44718f62a7907a5da500": {
          "model_module": "@jupyter-widgets/base",
          "model_name": "LayoutModel",
          "model_module_version": "1.2.0",
          "state": {
            "_model_module": "@jupyter-widgets/base",
            "_model_module_version": "1.2.0",
            "_model_name": "LayoutModel",
            "_view_count": null,
            "_view_module": "@jupyter-widgets/base",
            "_view_module_version": "1.2.0",
            "_view_name": "LayoutView",
            "align_content": null,
            "align_items": null,
            "align_self": null,
            "border": null,
            "bottom": null,
            "display": null,
            "flex": null,
            "flex_flow": null,
            "grid_area": null,
            "grid_auto_columns": null,
            "grid_auto_flow": null,
            "grid_auto_rows": null,
            "grid_column": null,
            "grid_gap": null,
            "grid_row": null,
            "grid_template_areas": null,
            "grid_template_columns": null,
            "grid_template_rows": null,
            "height": null,
            "justify_content": null,
            "justify_items": null,
            "left": null,
            "margin": null,
            "max_height": null,
            "max_width": null,
            "min_height": null,
            "min_width": null,
            "object_fit": null,
            "object_position": null,
            "order": null,
            "overflow": null,
            "overflow_x": null,
            "overflow_y": null,
            "padding": null,
            "right": null,
            "top": null,
            "visibility": null,
            "width": null
          }
        },
        "bfbf28617ba943d180c4c698f30caf23": {
          "model_module": "@jupyter-widgets/base",
          "model_name": "LayoutModel",
          "model_module_version": "1.2.0",
          "state": {
            "_model_module": "@jupyter-widgets/base",
            "_model_module_version": "1.2.0",
            "_model_name": "LayoutModel",
            "_view_count": null,
            "_view_module": "@jupyter-widgets/base",
            "_view_module_version": "1.2.0",
            "_view_name": "LayoutView",
            "align_content": null,
            "align_items": null,
            "align_self": null,
            "border": null,
            "bottom": null,
            "display": null,
            "flex": null,
            "flex_flow": null,
            "grid_area": null,
            "grid_auto_columns": null,
            "grid_auto_flow": null,
            "grid_auto_rows": null,
            "grid_column": null,
            "grid_gap": null,
            "grid_row": null,
            "grid_template_areas": null,
            "grid_template_columns": null,
            "grid_template_rows": null,
            "height": null,
            "justify_content": null,
            "justify_items": null,
            "left": null,
            "margin": null,
            "max_height": null,
            "max_width": null,
            "min_height": null,
            "min_width": null,
            "object_fit": null,
            "object_position": null,
            "order": null,
            "overflow": null,
            "overflow_x": null,
            "overflow_y": null,
            "padding": null,
            "right": null,
            "top": null,
            "visibility": null,
            "width": null
          }
        },
        "670cfe6acfd14e77aec6f8c4a5b7f2a0": {
          "model_module": "@jupyter-widgets/controls",
          "model_name": "DescriptionStyleModel",
          "model_module_version": "1.5.0",
          "state": {
            "_model_module": "@jupyter-widgets/controls",
            "_model_module_version": "1.5.0",
            "_model_name": "DescriptionStyleModel",
            "_view_count": null,
            "_view_module": "@jupyter-widgets/base",
            "_view_module_version": "1.2.0",
            "_view_name": "StyleView",
            "description_width": ""
          }
        },
        "25abf8e77edf4b9faa46eecb261bc31f": {
          "model_module": "@jupyter-widgets/base",
          "model_name": "LayoutModel",
          "model_module_version": "1.2.0",
          "state": {
            "_model_module": "@jupyter-widgets/base",
            "_model_module_version": "1.2.0",
            "_model_name": "LayoutModel",
            "_view_count": null,
            "_view_module": "@jupyter-widgets/base",
            "_view_module_version": "1.2.0",
            "_view_name": "LayoutView",
            "align_content": null,
            "align_items": null,
            "align_self": null,
            "border": null,
            "bottom": null,
            "display": null,
            "flex": null,
            "flex_flow": null,
            "grid_area": null,
            "grid_auto_columns": null,
            "grid_auto_flow": null,
            "grid_auto_rows": null,
            "grid_column": null,
            "grid_gap": null,
            "grid_row": null,
            "grid_template_areas": null,
            "grid_template_columns": null,
            "grid_template_rows": null,
            "height": null,
            "justify_content": null,
            "justify_items": null,
            "left": null,
            "margin": null,
            "max_height": null,
            "max_width": null,
            "min_height": null,
            "min_width": null,
            "object_fit": null,
            "object_position": null,
            "order": null,
            "overflow": null,
            "overflow_x": null,
            "overflow_y": null,
            "padding": null,
            "right": null,
            "top": null,
            "visibility": null,
            "width": null
          }
        },
        "cb9f09047acf4c13945722125930a231": {
          "model_module": "@jupyter-widgets/controls",
          "model_name": "ProgressStyleModel",
          "model_module_version": "1.5.0",
          "state": {
            "_model_module": "@jupyter-widgets/controls",
            "_model_module_version": "1.5.0",
            "_model_name": "ProgressStyleModel",
            "_view_count": null,
            "_view_module": "@jupyter-widgets/base",
            "_view_module_version": "1.2.0",
            "_view_name": "StyleView",
            "bar_color": null,
            "description_width": ""
          }
        },
        "04f4233df09b4f35a4eb6d681c79aef4": {
          "model_module": "@jupyter-widgets/base",
          "model_name": "LayoutModel",
          "model_module_version": "1.2.0",
          "state": {
            "_model_module": "@jupyter-widgets/base",
            "_model_module_version": "1.2.0",
            "_model_name": "LayoutModel",
            "_view_count": null,
            "_view_module": "@jupyter-widgets/base",
            "_view_module_version": "1.2.0",
            "_view_name": "LayoutView",
            "align_content": null,
            "align_items": null,
            "align_self": null,
            "border": null,
            "bottom": null,
            "display": null,
            "flex": null,
            "flex_flow": null,
            "grid_area": null,
            "grid_auto_columns": null,
            "grid_auto_flow": null,
            "grid_auto_rows": null,
            "grid_column": null,
            "grid_gap": null,
            "grid_row": null,
            "grid_template_areas": null,
            "grid_template_columns": null,
            "grid_template_rows": null,
            "height": null,
            "justify_content": null,
            "justify_items": null,
            "left": null,
            "margin": null,
            "max_height": null,
            "max_width": null,
            "min_height": null,
            "min_width": null,
            "object_fit": null,
            "object_position": null,
            "order": null,
            "overflow": null,
            "overflow_x": null,
            "overflow_y": null,
            "padding": null,
            "right": null,
            "top": null,
            "visibility": null,
            "width": null
          }
        },
        "6e1045c28e354b6b98096bda1179b2a7": {
          "model_module": "@jupyter-widgets/controls",
          "model_name": "DescriptionStyleModel",
          "model_module_version": "1.5.0",
          "state": {
            "_model_module": "@jupyter-widgets/controls",
            "_model_module_version": "1.5.0",
            "_model_name": "DescriptionStyleModel",
            "_view_count": null,
            "_view_module": "@jupyter-widgets/base",
            "_view_module_version": "1.2.0",
            "_view_name": "StyleView",
            "description_width": ""
          }
        }
      }
    }
  },
  "cells": [
    {
      "cell_type": "markdown",
      "metadata": {
        "id": "view-in-github",
        "colab_type": "text"
      },
      "source": [
        "<a href=\"https://colab.research.google.com/github/SicilianoBartolomeo/Sistemi-ad-agenti/blob/main/smartFallGruNet.ipynb\" target=\"_parent\"><img src=\"https://colab.research.google.com/assets/colab-badge.svg\" alt=\"Open In Colab\"/></a>"
      ]
    },
    {
      "cell_type": "code",
      "execution_count": null,
      "metadata": {
        "id": "KNxv1d7PDs2D"
      },
      "outputs": [],
      "source": [
        "import matplotlib.pyplot as plt\n",
        "import numpy as np\n",
        "import pandas as pd\n",
        "import tqdm\n",
        "import collections \n",
        "import time\n",
        "%matplotlib inline\n",
        "\n",
        "from sklearn.model_selection import train_test_split\n",
        "from sklearn.preprocessing import LabelEncoder\n",
        "\n",
        "import torch\n",
        "from torch import nn\n",
        "from torch.nn import functional as F\n",
        "from torch.utils.data import TensorDataset, DataLoader\n",
        "from torch.optim.lr_scheduler import _LRScheduler"
      ]
    },
    {
      "cell_type": "code",
      "source": [
        "np.random.seed(42)\n",
        "device = 'cuda:0' if torch.cuda.is_available() else 'cpu'\n",
        "device"
      ],
      "metadata": {
        "colab": {
          "base_uri": "https://localhost:8080/",
          "height": 35
        },
        "id": "tiDSYt8GDzWs",
        "outputId": "754d4915-8241-4bed-8c00-d82b28384fe9"
      },
      "execution_count": null,
      "outputs": [
        {
          "output_type": "execute_result",
          "data": {
            "text/plain": [
              "'cuda:0'"
            ],
            "application/vnd.google.colaboratory.intrinsic+json": {
              "type": "string"
            }
          },
          "metadata": {},
          "execution_count": 2
        }
      ]
    },
    {
      "cell_type": "code",
      "source": [
        "from google.colab import drive\n",
        "\n",
        "drive.mount('/content/gdrive/', force_remount=True)"
      ],
      "metadata": {
        "colab": {
          "base_uri": "https://localhost:8080/"
        },
        "id": "KczyuyMYD7jk",
        "outputId": "c196c20b-c221-4e1c-b940-9b9d55e727f6"
      },
      "execution_count": null,
      "outputs": [
        {
          "output_type": "stream",
          "name": "stdout",
          "text": [
            "Mounted at /content/gdrive/\n"
          ]
        }
      ]
    },
    {
      "cell_type": "code",
      "source": [
        "! unzip /content/gdrive/MyDrive/SmartFallDataSet.zip"
      ],
      "metadata": {
        "colab": {
          "base_uri": "https://localhost:8080/"
        },
        "id": "FJA4xHIUEmXF",
        "outputId": "37f33666-e33e-4112-ae76-c4340f41f3bc"
      },
      "execution_count": null,
      "outputs": [
        {
          "output_type": "stream",
          "name": "stdout",
          "text": [
            "Archive:  /content/gdrive/MyDrive/SmartFallDataSet.zip\n",
            "   creating: SmartFallDataSet/\n",
            "   creating: SmartFallDataSet/notch/\n",
            "  inflating: SmartFallDataSet/notch/.DS_Store  \n",
            "   creating: __MACOSX/\n",
            "   creating: __MACOSX/SmartFallDataSet/\n",
            "   creating: __MACOSX/SmartFallDataSet/notch/\n",
            "  inflating: __MACOSX/SmartFallDataSet/notch/._.DS_Store  \n",
            "   creating: SmartFallDataSet/notch/Notch_Dataset_Wrist/\n",
            "  inflating: SmartFallDataSet/notch/Notch_Dataset_Wrist/32ms_User3_LeftWrist.csv  \n",
            "   creating: __MACOSX/SmartFallDataSet/notch/Notch_Dataset_Wrist/\n",
            "  inflating: __MACOSX/SmartFallDataSet/notch/Notch_Dataset_Wrist/._32ms_User3_LeftWrist.csv  \n",
            "  inflating: SmartFallDataSet/notch/Notch_Dataset_Wrist/32ms_User7_LeftWrist.csv  \n",
            "  inflating: __MACOSX/SmartFallDataSet/notch/Notch_Dataset_Wrist/._32ms_User7_LeftWrist.csv  \n",
            "  inflating: SmartFallDataSet/notch/Notch_Dataset_Wrist/32ms_User4_LeftWrist.csv  \n",
            "  inflating: __MACOSX/SmartFallDataSet/notch/Notch_Dataset_Wrist/._32ms_User4_LeftWrist.csv  \n",
            "  inflating: SmartFallDataSet/notch/Notch_Dataset_Wrist/32ms_User5_LeftWrist.csv  \n",
            "  inflating: __MACOSX/SmartFallDataSet/notch/Notch_Dataset_Wrist/._32ms_User5_LeftWrist.csv  \n",
            "  inflating: SmartFallDataSet/notch/Notch_Dataset_Wrist/32ms_User1_LeftWrist.csv  \n",
            "  inflating: __MACOSX/SmartFallDataSet/notch/Notch_Dataset_Wrist/._32ms_User1_LeftWrist.csv  \n",
            "  inflating: SmartFallDataSet/notch/Notch_Dataset_Wrist/32ms_User6_LeftWrist.csv  \n",
            "  inflating: __MACOSX/SmartFallDataSet/notch/Notch_Dataset_Wrist/._32ms_User6_LeftWrist.csv  \n",
            "  inflating: SmartFallDataSet/notch/Notch_Dataset_Wrist/32ms_User2_LeftWrist.csv  \n",
            "  inflating: __MACOSX/SmartFallDataSet/notch/Notch_Dataset_Wrist/._32ms_User2_LeftWrist.csv  \n",
            "  inflating: __MACOSX/SmartFallDataSet/notch/._Notch_Dataset_Wrist  \n",
            "  inflating: SmartFallDataSet/.DS_Store  \n",
            "  inflating: __MACOSX/SmartFallDataSet/._.DS_Store  \n",
            "   creating: SmartFallDataSet/SmartWatch/\n",
            "  inflating: SmartFallDataSet/SmartWatch/raw182_Training_Relabeled_Auto_25.csv  \n",
            "   creating: __MACOSX/SmartFallDataSet/SmartWatch/\n",
            "  inflating: __MACOSX/SmartFallDataSet/SmartWatch/._raw182_Training_Relabeled_Auto_25.csv  \n",
            "  inflating: SmartFallDataSet/SmartWatch/readme.txt  \n",
            "  inflating: __MACOSX/SmartFallDataSet/SmartWatch/._readme.txt  \n",
            "  inflating: SmartFallDataSet/SmartWatch/Raw_Data_90ADL.csv  \n",
            "  inflating: __MACOSX/SmartFallDataSet/SmartWatch/._Raw_Data_90ADL.csv  \n",
            "  inflating: SmartFallDataSet/SmartWatch/raw91_Testing_Relabeled_Auto_25.csv  \n",
            "  inflating: __MACOSX/SmartFallDataSet/SmartWatch/._raw91_Testing_Relabeled_Auto_25.csv  \n"
          ]
        }
      ]
    },
    {
      "cell_type": "code",
      "source": [
        "train = pd.read_csv('/content/SmartFallDataSet/SmartWatch/raw182_Training_Relabeled_Auto_25.csv')\n",
        "test = pd.read_csv('/content/SmartFallDataSet/SmartWatch/raw91_Testing_Relabeled_Auto_25.csv')"
      ],
      "metadata": {
        "id": "wswp_UhDEs_4"
      },
      "execution_count": null,
      "outputs": []
    },
    {
      "cell_type": "code",
      "source": [
        "train = pd.read_csv('/content/gdrive/MyDrive/SmartFall Training.csv')\n",
        "test = pd.read_csv('/content/gdrive/MyDrive/SmartFall Testing.csv')"
      ],
      "metadata": {
        "id": "RwC1f9yr5JMu"
      },
      "execution_count": null,
      "outputs": []
    },
    {
      "cell_type": "code",
      "source": [
        "train"
      ],
      "metadata": {
        "colab": {
          "base_uri": "https://localhost:8080/",
          "height": 424
        },
        "id": "r3E_dh33umb8",
        "outputId": "a8695e68-b3c6-4e75-ee7b-9399c97306be"
      },
      "execution_count": null,
      "outputs": [
        {
          "output_type": "execute_result",
          "data": {
            "text/plain": [
              "        ms_accelerometer_x   ms_accelerometer_y   ms_accelerometer_z  outcome\n",
              "0                 0.963379             0.063477            -0.036865        0\n",
              "1                 0.990723             0.057617             0.005371        0\n",
              "2                 0.990967             0.108398             0.034668        0\n",
              "3                 0.976807             0.184570             0.060791        0\n",
              "4                 0.999268             0.143311             0.055176        0\n",
              "...                    ...                  ...                  ...      ...\n",
              "34015            -0.147949             0.656982            -0.241211        0\n",
              "34016            -0.217529             0.655518            -0.162598        0\n",
              "34017            -0.228027             0.596924            -0.120605        0\n",
              "34018            -0.241455             0.475342            -0.143555        0\n",
              "34019            -0.235596             0.431396            -0.019531        0\n",
              "\n",
              "[34020 rows x 4 columns]"
            ],
            "text/html": [
              "\n",
              "  <div id=\"df-5db07022-238c-4494-91ba-3c7c6db3b75b\">\n",
              "    <div class=\"colab-df-container\">\n",
              "      <div>\n",
              "<style scoped>\n",
              "    .dataframe tbody tr th:only-of-type {\n",
              "        vertical-align: middle;\n",
              "    }\n",
              "\n",
              "    .dataframe tbody tr th {\n",
              "        vertical-align: top;\n",
              "    }\n",
              "\n",
              "    .dataframe thead th {\n",
              "        text-align: right;\n",
              "    }\n",
              "</style>\n",
              "<table border=\"1\" class=\"dataframe\">\n",
              "  <thead>\n",
              "    <tr style=\"text-align: right;\">\n",
              "      <th></th>\n",
              "      <th>ms_accelerometer_x</th>\n",
              "      <th>ms_accelerometer_y</th>\n",
              "      <th>ms_accelerometer_z</th>\n",
              "      <th>outcome</th>\n",
              "    </tr>\n",
              "  </thead>\n",
              "  <tbody>\n",
              "    <tr>\n",
              "      <th>0</th>\n",
              "      <td>0.963379</td>\n",
              "      <td>0.063477</td>\n",
              "      <td>-0.036865</td>\n",
              "      <td>0</td>\n",
              "    </tr>\n",
              "    <tr>\n",
              "      <th>1</th>\n",
              "      <td>0.990723</td>\n",
              "      <td>0.057617</td>\n",
              "      <td>0.005371</td>\n",
              "      <td>0</td>\n",
              "    </tr>\n",
              "    <tr>\n",
              "      <th>2</th>\n",
              "      <td>0.990967</td>\n",
              "      <td>0.108398</td>\n",
              "      <td>0.034668</td>\n",
              "      <td>0</td>\n",
              "    </tr>\n",
              "    <tr>\n",
              "      <th>3</th>\n",
              "      <td>0.976807</td>\n",
              "      <td>0.184570</td>\n",
              "      <td>0.060791</td>\n",
              "      <td>0</td>\n",
              "    </tr>\n",
              "    <tr>\n",
              "      <th>4</th>\n",
              "      <td>0.999268</td>\n",
              "      <td>0.143311</td>\n",
              "      <td>0.055176</td>\n",
              "      <td>0</td>\n",
              "    </tr>\n",
              "    <tr>\n",
              "      <th>...</th>\n",
              "      <td>...</td>\n",
              "      <td>...</td>\n",
              "      <td>...</td>\n",
              "      <td>...</td>\n",
              "    </tr>\n",
              "    <tr>\n",
              "      <th>34015</th>\n",
              "      <td>-0.147949</td>\n",
              "      <td>0.656982</td>\n",
              "      <td>-0.241211</td>\n",
              "      <td>0</td>\n",
              "    </tr>\n",
              "    <tr>\n",
              "      <th>34016</th>\n",
              "      <td>-0.217529</td>\n",
              "      <td>0.655518</td>\n",
              "      <td>-0.162598</td>\n",
              "      <td>0</td>\n",
              "    </tr>\n",
              "    <tr>\n",
              "      <th>34017</th>\n",
              "      <td>-0.228027</td>\n",
              "      <td>0.596924</td>\n",
              "      <td>-0.120605</td>\n",
              "      <td>0</td>\n",
              "    </tr>\n",
              "    <tr>\n",
              "      <th>34018</th>\n",
              "      <td>-0.241455</td>\n",
              "      <td>0.475342</td>\n",
              "      <td>-0.143555</td>\n",
              "      <td>0</td>\n",
              "    </tr>\n",
              "    <tr>\n",
              "      <th>34019</th>\n",
              "      <td>-0.235596</td>\n",
              "      <td>0.431396</td>\n",
              "      <td>-0.019531</td>\n",
              "      <td>0</td>\n",
              "    </tr>\n",
              "  </tbody>\n",
              "</table>\n",
              "<p>34020 rows × 4 columns</p>\n",
              "</div>\n",
              "      <button class=\"colab-df-convert\" onclick=\"convertToInteractive('df-5db07022-238c-4494-91ba-3c7c6db3b75b')\"\n",
              "              title=\"Convert this dataframe to an interactive table.\"\n",
              "              style=\"display:none;\">\n",
              "        \n",
              "  <svg xmlns=\"http://www.w3.org/2000/svg\" height=\"24px\"viewBox=\"0 0 24 24\"\n",
              "       width=\"24px\">\n",
              "    <path d=\"M0 0h24v24H0V0z\" fill=\"none\"/>\n",
              "    <path d=\"M18.56 5.44l.94 2.06.94-2.06 2.06-.94-2.06-.94-.94-2.06-.94 2.06-2.06.94zm-11 1L8.5 8.5l.94-2.06 2.06-.94-2.06-.94L8.5 2.5l-.94 2.06-2.06.94zm10 10l.94 2.06.94-2.06 2.06-.94-2.06-.94-.94-2.06-.94 2.06-2.06.94z\"/><path d=\"M17.41 7.96l-1.37-1.37c-.4-.4-.92-.59-1.43-.59-.52 0-1.04.2-1.43.59L10.3 9.45l-7.72 7.72c-.78.78-.78 2.05 0 2.83L4 21.41c.39.39.9.59 1.41.59.51 0 1.02-.2 1.41-.59l7.78-7.78 2.81-2.81c.8-.78.8-2.07 0-2.86zM5.41 20L4 18.59l7.72-7.72 1.47 1.35L5.41 20z\"/>\n",
              "  </svg>\n",
              "      </button>\n",
              "      \n",
              "  <style>\n",
              "    .colab-df-container {\n",
              "      display:flex;\n",
              "      flex-wrap:wrap;\n",
              "      gap: 12px;\n",
              "    }\n",
              "\n",
              "    .colab-df-convert {\n",
              "      background-color: #E8F0FE;\n",
              "      border: none;\n",
              "      border-radius: 50%;\n",
              "      cursor: pointer;\n",
              "      display: none;\n",
              "      fill: #1967D2;\n",
              "      height: 32px;\n",
              "      padding: 0 0 0 0;\n",
              "      width: 32px;\n",
              "    }\n",
              "\n",
              "    .colab-df-convert:hover {\n",
              "      background-color: #E2EBFA;\n",
              "      box-shadow: 0px 1px 2px rgba(60, 64, 67, 0.3), 0px 1px 3px 1px rgba(60, 64, 67, 0.15);\n",
              "      fill: #174EA6;\n",
              "    }\n",
              "\n",
              "    [theme=dark] .colab-df-convert {\n",
              "      background-color: #3B4455;\n",
              "      fill: #D2E3FC;\n",
              "    }\n",
              "\n",
              "    [theme=dark] .colab-df-convert:hover {\n",
              "      background-color: #434B5C;\n",
              "      box-shadow: 0px 1px 3px 1px rgba(0, 0, 0, 0.15);\n",
              "      filter: drop-shadow(0px 1px 2px rgba(0, 0, 0, 0.3));\n",
              "      fill: #FFFFFF;\n",
              "    }\n",
              "  </style>\n",
              "\n",
              "      <script>\n",
              "        const buttonEl =\n",
              "          document.querySelector('#df-5db07022-238c-4494-91ba-3c7c6db3b75b button.colab-df-convert');\n",
              "        buttonEl.style.display =\n",
              "          google.colab.kernel.accessAllowed ? 'block' : 'none';\n",
              "\n",
              "        async function convertToInteractive(key) {\n",
              "          const element = document.querySelector('#df-5db07022-238c-4494-91ba-3c7c6db3b75b');\n",
              "          const dataTable =\n",
              "            await google.colab.kernel.invokeFunction('convertToInteractive',\n",
              "                                                     [key], {});\n",
              "          if (!dataTable) return;\n",
              "\n",
              "          const docLinkHtml = 'Like what you see? Visit the ' +\n",
              "            '<a target=\"_blank\" href=https://colab.research.google.com/notebooks/data_table.ipynb>data table notebook</a>'\n",
              "            + ' to learn more about interactive tables.';\n",
              "          element.innerHTML = '';\n",
              "          dataTable['output_type'] = 'display_data';\n",
              "          await google.colab.output.renderOutput(dataTable, element);\n",
              "          const docLink = document.createElement('div');\n",
              "          docLink.innerHTML = docLinkHtml;\n",
              "          element.appendChild(docLink);\n",
              "        }\n",
              "      </script>\n",
              "    </div>\n",
              "  </div>\n",
              "  "
            ]
          },
          "metadata": {},
          "execution_count": 33
        }
      ]
    },
    {
      "cell_type": "code",
      "source": [
        "#sliding window size of 40\n",
        "#if data contains all fall samples(25 samples) then, label as 'FALL'\n",
        "#unless, it's all labelled as 'ADL'\n",
        "n = 40\n",
        "X_train, y_train = list(), list()\n",
        "\n",
        "for i in tqdm.notebook.tqdm(range(0, len(train)-40)):\n",
        "    temp = list()\n",
        "    \n",
        "    temp.append(train[' ms_accelerometer_x'][i : i + n])\n",
        "    temp.append(train[' ms_accelerometer_y'][i : i + n])\n",
        "    temp.append(train[' ms_accelerometer_z'][i : i + n])\n",
        "    \n",
        "    cnt = collections.Counter(train['outcome'][i: i + n])\n",
        "    num_adl = cnt[0]\n",
        "    num_fall = cnt[1]\n",
        "    \n",
        "    if num_fall == 25:\n",
        "        y_train.append(1)\n",
        "    else:\n",
        "        y_train.append(0)\n",
        "    \n",
        "    X_train.append(temp)"
      ],
      "metadata": {
        "colab": {
          "base_uri": "https://localhost:8080/",
          "height": 49,
          "referenced_widgets": [
            "614cb55847b4445d95360f163433e9b3",
            "b29cb7611edf4870baee011af2548188",
            "9ae22e337ff1477ca451dcf898c811e3",
            "f32ce1dec1ca4c13868472e6ec9466fb",
            "955a0653d44b42c4866e81b1bd25faef",
            "ceae6ef75939434d927f0db9f2f33357",
            "6022b7b9a10641e78220f3fcea720800",
            "d6d1c60b74104add8877cc39f8837d9d",
            "0a6ee0e1144246eba95da8e44f9530d8",
            "0e692d01682f4819b23dcf011f0c173a",
            "f70d44c386df4ee88934870a10f91bfc"
          ]
        },
        "id": "rJ-mYskAE_Ei",
        "outputId": "8592fac5-1009-427d-c681-381d8a84c381"
      },
      "execution_count": null,
      "outputs": [
        {
          "output_type": "display_data",
          "data": {
            "text/plain": [
              "  0%|          | 0/92741 [00:00<?, ?it/s]"
            ],
            "application/vnd.jupyter.widget-view+json": {
              "version_major": 2,
              "version_minor": 0,
              "model_id": "614cb55847b4445d95360f163433e9b3"
            }
          },
          "metadata": {}
        }
      ]
    },
    {
      "cell_type": "code",
      "source": [
        "n = 40\n",
        "X_test_adl, X_test_fall, y_test_adl, y_test_fall = list(), list(), list(), list()\n",
        "for i in tqdm.notebook.tqdm(range(0, len(test) - 40)):\n",
        "    temp = list()\n",
        "    \n",
        "    temp.append(test[' ms_accelerometer_x'][i : i + n])\n",
        "    temp.append(test[' ms_accelerometer_y'][i : i + n])\n",
        "    temp.append(test[' ms_accelerometer_z'][i : i + n])\n",
        "    \n",
        "    cnt = collections.Counter(test['outcome'][i : i + n])\n",
        "    num_adl = cnt[0]\n",
        "    num_fall = cnt[1]\n",
        "    \n",
        "    if num_fall == 25:\n",
        "        y_test_fall.append(1)\n",
        "        X_test_fall.append(temp)\n",
        "    else:\n",
        "        y_test_adl.append(0)\n",
        "        X_test_adl.append(temp)"
      ],
      "metadata": {
        "colab": {
          "base_uri": "https://localhost:8080/",
          "height": 49,
          "referenced_widgets": [
            "189042e92d5e4095b2d2af3b4c601764",
            "243cb217a1e34942a1b4f761618f3172",
            "5a7c8059fa8b4783a22b8678c9576fd1",
            "37a8b57b92894016a1f7adfc68642293",
            "9953a3b852ea44718f62a7907a5da500",
            "bfbf28617ba943d180c4c698f30caf23",
            "670cfe6acfd14e77aec6f8c4a5b7f2a0",
            "25abf8e77edf4b9faa46eecb261bc31f",
            "cb9f09047acf4c13945722125930a231",
            "04f4233df09b4f35a4eb6d681c79aef4",
            "6e1045c28e354b6b98096bda1179b2a7"
          ]
        },
        "id": "Z1Sb9qSyFHV6",
        "outputId": "acafa756-35c6-4497-c772-7c9ca7a819a9"
      },
      "execution_count": null,
      "outputs": [
        {
          "output_type": "display_data",
          "data": {
            "text/plain": [
              "  0%|          | 0/90985 [00:00<?, ?it/s]"
            ],
            "application/vnd.jupyter.widget-view+json": {
              "version_major": 2,
              "version_minor": 0,
              "model_id": "189042e92d5e4095b2d2af3b4c601764"
            }
          },
          "metadata": {}
        }
      ]
    },
    {
      "cell_type": "code",
      "source": [
        "print(len(y_test_fall))\n",
        "print(len(y_test_adl))"
      ],
      "metadata": {
        "colab": {
          "base_uri": "https://localhost:8080/"
        },
        "id": "EUZM8g2UFMJ9",
        "outputId": "2e0f6a6b-035f-4b8c-db1a-65ebccc4d1f1"
      },
      "execution_count": null,
      "outputs": [
        {
          "output_type": "stream",
          "name": "stdout",
          "text": [
            "3216\n",
            "87769\n"
          ]
        }
      ]
    },
    {
      "cell_type": "code",
      "source": [
        "# to keep the balance between ADL and FALL data, used only part of ADL data\n",
        "\n",
        "X_test_adl = X_test_adl[:3216]\n",
        "y_test_adl = y_test_adl[:3216]\n",
        "\n",
        "y_test = y_test_adl + y_test_fall\n",
        "X_test = X_test_adl + X_test_fall"
      ],
      "metadata": {
        "id": "f3LX8-1_FSxK"
      },
      "execution_count": null,
      "outputs": []
    },
    {
      "cell_type": "code",
      "source": [
        "print('length of test data', len(X_test))"
      ],
      "metadata": {
        "colab": {
          "base_uri": "https://localhost:8080/"
        },
        "id": "Sa33Xz4WFrsc",
        "outputId": "0bde2ce5-2761-4535-ca1a-51d8461e037e"
      },
      "execution_count": null,
      "outputs": [
        {
          "output_type": "stream",
          "name": "stdout",
          "text": [
            "length of test data 6432\n"
          ]
        }
      ]
    },
    {
      "cell_type": "code",
      "source": [
        "print('train data adl and fall ratio')\n",
        "print('--------------------------------')\n",
        "cnt_train = collections.Counter(y_train)\n",
        "print('train data adl ratio: ', cnt_train[0])\n",
        "print('train data fall ratio: ', cnt_train[1])\n",
        "print('--------------------------------')\n",
        "\n",
        "cnt_test = collections.Counter(y_test)\n",
        "print('test data adl ratio: ', cnt_test[0])\n",
        "print('test data fall ratio: ', cnt_test[1])"
      ],
      "metadata": {
        "colab": {
          "base_uri": "https://localhost:8080/"
        },
        "id": "my7QJLmwFvpS",
        "outputId": "b9f6e5bf-04af-4532-9f02-7d3d76ef5dc2"
      },
      "execution_count": null,
      "outputs": [
        {
          "output_type": "stream",
          "name": "stdout",
          "text": [
            "train data adl and fall ratio\n",
            "--------------------------------\n",
            "train data adl ratio:  87509\n",
            "train data fall ratio:  5232\n",
            "--------------------------------\n",
            "test data adl ratio:  3216\n",
            "test data fall ratio:  3216\n"
          ]
        }
      ]
    },
    {
      "cell_type": "code",
      "source": [
        "class CyclicLR(_LRScheduler):\n",
        "    \n",
        "    def __init__(self, optimizer, schedule, last_epoch=-1):\n",
        "        assert callable(schedule)\n",
        "        self.schedule = schedule\n",
        "        super().__init__(optimizer, last_epoch)\n",
        "\n",
        "    def get_lr(self):\n",
        "        return [self.schedule(self.last_epoch, lr) for lr in self.base_lrs]"
      ],
      "metadata": {
        "id": "ysAQYSieF8_a"
      },
      "execution_count": null,
      "outputs": []
    },
    {
      "cell_type": "code",
      "source": [
        "def cosine(t_max, eta_min=0):\n",
        "    \n",
        "    def scheduler(epoch, base_lr):\n",
        "        t = epoch % t_max\n",
        "        return eta_min + (base_lr - eta_min)*(1 + np.cos(np.pi*t/t_max))/2\n",
        "    \n",
        "    return scheduler"
      ],
      "metadata": {
        "id": "euvQqsDhGAYd"
      },
      "execution_count": null,
      "outputs": []
    },
    {
      "cell_type": "code",
      "source": [
        "n = 100\n",
        "sched = cosine(n)\n",
        "lrs = [sched(t, 1) for t in range(n * 4)]\n",
        "plt.plot(lrs)"
      ],
      "metadata": {
        "colab": {
          "base_uri": "https://localhost:8080/",
          "height": 282
        },
        "id": "nS58jR2uGDV8",
        "outputId": "a3de9917-7454-4c5a-ffb8-c668d92b0197"
      },
      "execution_count": null,
      "outputs": [
        {
          "output_type": "execute_result",
          "data": {
            "text/plain": [
              "[<matplotlib.lines.Line2D at 0x7fa33e90ec10>]"
            ]
          },
          "metadata": {},
          "execution_count": 13
        },
        {
          "output_type": "display_data",
          "data": {
            "text/plain": [
              "<Figure size 432x288 with 1 Axes>"
            ],
            "image/png": "[encoded data removed]"
          },
          "metadata": {
            "needs_background": "light"
          }
        }
      ]
    },
    {
      "cell_type": "code",
      "source": [
        "class GRUNet(nn.Module):\n",
        "    def __init__(self, input_dim, hidden_dim, output_dim, n_layers):\n",
        "        super(GRUNet, self).__init__()\n",
        "        self.hidden_dim = hidden_dim\n",
        "        self.n_layers = n_layers\n",
        "        \n",
        "        self.GRU = nn.GRU(input_size = input_dim,\n",
        "                          hidden_size = hidden_dim, \n",
        "                          num_layers = n_layers,\n",
        "                          batch_first=True)\n",
        "        self.fc = nn.Linear(hidden_dim, output_dim)\n",
        "        self.relu = nn.ReLU()\n",
        "        \n",
        "    def forward(self, x):\n",
        "        h0 = self.init_hidden(x)\n",
        "        out, hn = self.GRU(x, h0)\n",
        "        out = self.fc(self.relu(out[:, -1]))\n",
        "        return out\n",
        "    \n",
        "    def init_hidden(self, x):\n",
        "        h0 = torch.zeros(self.n_layers, x.size(0), self.hidden_dim)\n",
        "        return h0.cuda()"
      ],
      "metadata": {
        "id": "dLYx0fYwGHYR"
      },
      "execution_count": null,
      "outputs": []
    },
    {
      "cell_type": "code",
      "source": [
        "X_train = np.asarray(X_train).reshape(-1, 40, 3)\n",
        "y_train = np.asarray(y_train).reshape(-1, )\n",
        "\n",
        "X_test = np.asarray(X_test).reshape(-1, 40, 3)\n",
        "y_test = np.asarray(y_test).reshape(-1, )"
      ],
      "metadata": {
        "id": "ZX7njXHLGK-O"
      },
      "execution_count": null,
      "outputs": []
    },
    {
      "cell_type": "code",
      "source": [
        "from sklearn.preprocessing import LabelEncoder\n",
        "enc = LabelEncoder()\n",
        "\n",
        "y_train = enc.fit_transform(y_train)\n",
        "y_test = enc.fit_transform(y_test)"
      ],
      "metadata": {
        "id": "7pTuoTwNGPzZ"
      },
      "execution_count": null,
      "outputs": []
    },
    {
      "cell_type": "code",
      "source": [
        "X_train, X_valid, y_train, y_valid = train_test_split(X_train, y_train, test_size=0.1)"
      ],
      "metadata": {
        "id": "CrBop0klGTl9"
      },
      "execution_count": null,
      "outputs": []
    },
    {
      "cell_type": "code",
      "source": [
        "batch_size = 128\n",
        "\n",
        "train_data = TensorDataset(torch.from_numpy(X_train), torch.from_numpy(y_train))\n",
        "train_loader = torch.utils.data.DataLoader(\n",
        "    train_data,\n",
        "    shuffle=True, batch_size=batch_size)\n",
        "\n",
        "valid_data = TensorDataset(torch.from_numpy(X_valid), torch.from_numpy(y_valid))\n",
        "valid_loader = torch.utils.data.DataLoader(\n",
        "    valid_data,\n",
        "    shuffle=True, batch_size=batch_size)\n",
        "\n",
        "test_data =TensorDataset(torch.from_numpy(X_test), torch.from_numpy(y_test))\n",
        "test_loader = torch.utils.data.DataLoader(\n",
        "    test_data,\n",
        "    shuffle=True, batch_size=batch_size)"
      ],
      "metadata": {
        "id": "5WphsGvEGW2d"
      },
      "execution_count": null,
      "outputs": []
    },
    {
      "cell_type": "code",
      "source": [
        "input_dim = next(iter(train_loader))[0].shape[2]\n",
        "output_dim = 2\n",
        "n_layers = 2\n",
        "hidden_dim = 256\n",
        "\n",
        "lr = 0.0001\n",
        "n_epochs = 40\n",
        "iterations_per_epoch = len(train_loader)\n",
        "best_acc = 0.\n",
        "patience, trials = 15, 0\n",
        "\n",
        "model = GRUNet(input_dim, hidden_dim, output_dim, n_layers).cuda()\n",
        "print(model)\n",
        "criterion = nn.CrossEntropyLoss().cuda()\n",
        "optimizer = torch.optim.Adam(model.parameters(), lr=lr)\n",
        "sched = CyclicLR(optimizer, cosine(t_max=iterations_per_epoch * 2, eta_min = lr/10))\n",
        "epoch_times = []"
      ],
      "metadata": {
        "colab": {
          "base_uri": "https://localhost:8080/"
        },
        "id": "koBndcT1GbJd",
        "outputId": "425f823a-6687-4e1a-d561-b40be31091b0"
      },
      "execution_count": null,
      "outputs": [
        {
          "output_type": "stream",
          "name": "stdout",
          "text": [
            "GRUNet(\n",
            "  (GRU): GRU(3, 256, num_layers=2, batch_first=True)\n",
            "  (fc): Linear(in_features=256, out_features=2, bias=True)\n",
            "  (relu): ReLU()\n",
            ")\n"
          ]
        }
      ]
    },
    {
      "cell_type": "code",
      "source": [
        "train_loss, train_acc = list(), list()\n",
        "print('Start model training')\n",
        "\n",
        "for epoch in range(1, n_epochs + 1):\n",
        "    start_time = time.process_time()\n",
        "    for i, (X_batch, y_batch) in enumerate(train_loader):\n",
        "        model.train()\n",
        "        X_batch = X_batch.float().cuda()\n",
        "        y_batch = y_batch.cuda()\n",
        "        optimizer.zero_grad()\n",
        "        out = model(X_batch)\n",
        "        loss = criterion(out, y_batch)\n",
        "        loss.backward()\n",
        "        optimizer.step()\n",
        "        sched.step()\n",
        "    current_time = time.process_time()\n",
        "    epoch_times.append(current_time-start_time)\n",
        "    \n",
        "    model.eval()\n",
        "    correct, total = 0, 0\n",
        "    for x_val, y_val in valid_loader:\n",
        "        x_val, y_val = [t.cuda() for t in (x_val.float(), y_val)]\n",
        "        out = model(x_val)\n",
        "        preds = F.log_softmax(out, dim=1).argmax(dim=1)\n",
        "        total += y_val.size(0)\n",
        "        correct += (preds == y_val).sum().item()\n",
        "        \n",
        "    acc = correct / total\n",
        "    \n",
        "    train_loss.append(loss.item())\n",
        "    train_acc.append(acc)\n",
        "    \n",
        "    if epoch % 5 == 0:\n",
        "        print(f'Epoch: {epoch:3d}. Loss: {loss.item():.4f}. Acc.: {acc:2.2%}')\n",
        "\n",
        "    if acc > best_acc:\n",
        "        trials = 0\n",
        "        best_acc = acc\n",
        "        torch.save(model.state_dict(), 'SmartFall_gru.pth')\n",
        "        print(f'Epoch {epoch} best model saved with accuracy: {best_acc:2.2%}')\n",
        "    else:\n",
        "        trials += 1\n",
        "        if trials >= patience:\n",
        "            print(f'Early stopping on epoch {epoch}')\n",
        "            break\n",
        "print(\"Total Training Time: {} seconds\".format(str(sum(epoch_times))))"
      ],
      "metadata": {
        "colab": {
          "base_uri": "https://localhost:8080/"
        },
        "id": "I437U_kyGhSc",
        "outputId": "ecb5efe2-ce1c-4c02-df2c-77ece3fa849d"
      },
      "execution_count": null,
      "outputs": [
        {
          "output_type": "stream",
          "name": "stdout",
          "text": [
            "Start model training\n",
            "Epoch 1 best model saved with accuracy: 94.93%\n",
            "Epoch 2 best model saved with accuracy: 95.95%\n",
            "Epoch 3 best model saved with accuracy: 97.30%\n",
            "Epoch 4 best model saved with accuracy: 97.82%\n",
            "Epoch:   5. Loss: 0.0359. Acc.: 97.89%\n",
            "Epoch 5 best model saved with accuracy: 97.89%\n",
            "Epoch 6 best model saved with accuracy: 98.27%\n",
            "Epoch 8 best model saved with accuracy: 98.37%\n",
            "Epoch 9 best model saved with accuracy: 98.39%\n",
            "Epoch:  10. Loss: 0.0143. Acc.: 98.52%\n",
            "Epoch 10 best model saved with accuracy: 98.52%\n",
            "Epoch 12 best model saved with accuracy: 98.57%\n",
            "Epoch 14 best model saved with accuracy: 98.64%\n",
            "Epoch:  15. Loss: 0.0008. Acc.: 98.67%\n",
            "Epoch 15 best model saved with accuracy: 98.67%\n",
            "Epoch 16 best model saved with accuracy: 98.73%\n",
            "Epoch 18 best model saved with accuracy: 98.76%\n",
            "Epoch:  20. Loss: 0.0707. Acc.: 98.82%\n",
            "Epoch 20 best model saved with accuracy: 98.82%\n",
            "Epoch 21 best model saved with accuracy: 98.85%\n",
            "Epoch 22 best model saved with accuracy: 98.94%\n",
            "Epoch:  25. Loss: 0.0001. Acc.: 98.94%\n",
            "Epoch 26 best model saved with accuracy: 99.00%\n",
            "Epoch 28 best model saved with accuracy: 99.06%\n",
            "Epoch:  30. Loss: 0.0471. Acc.: 99.07%\n",
            "Epoch 30 best model saved with accuracy: 99.07%\n",
            "Epoch 32 best model saved with accuracy: 99.12%\n",
            "Epoch 34 best model saved with accuracy: 99.15%\n",
            "Epoch:  35. Loss: 0.0008. Acc.: 99.08%\n",
            "Epoch 36 best model saved with accuracy: 99.17%\n",
            "Epoch 37 best model saved with accuracy: 99.22%\n",
            "Epoch:  40. Loss: 0.0016. Acc.: 99.25%\n",
            "Epoch 40 best model saved with accuracy: 99.25%\n",
            "Total Training Time: 240.5318883800001 seconds\n"
          ]
        }
      ]
    },
    {
      "cell_type": "code",
      "source": [
        "plt.figure(figsize=(10, 3))\n",
        "plt.suptitle('LSTM Model', fontsize=20, y=1.1)\n",
        "plt.subplot(1, 2, 1)\n",
        "plt.plot(np.arange(len(train_loss)), train_loss)\n",
        "plt.yticks([0.0, 0.10, 0.20], fontsize=15)\n",
        "plt.xticks([0, 20, 40], fontsize=15)\n",
        "plt.title('Loss', fontsize=20)\n",
        "\n",
        "plt.subplot(1, 2, 2)\n",
        "plt.plot(np.arange(len(train_acc)), train_acc)\n",
        "plt.yticks([0.94, 0.96, 0.98, 1.0],fontsize=15)\n",
        "plt.xticks([0, 20, 40], fontsize=15)\n",
        "plt.title('Accuracy',fontsize=20)\n",
        "plt.subplots_adjust(hspace=1)\n",
        "\n",
        "plt.show()"
      ],
      "metadata": {
        "colab": {
          "base_uri": "https://localhost:8080/",
          "height": 264
        },
        "id": "TVEMlOFtGpeF",
        "outputId": "377037df-4065-4d28-e211-25f90bc9f0e7"
      },
      "execution_count": null,
      "outputs": [
        {
          "output_type": "display_data",
          "data": {
            "text/plain": [
              "<Figure size 720x216 with 2 Axes>"
            ],
            "image/png": "[encoded data removed]"
          },
          "metadata": {
            "needs_background": "light"
          }
        }
      ]
    },
    {
      "cell_type": "code",
      "source": [
        "# evaluation with test dataset\n",
        "from sklearn.metrics import classification_report, confusion_matrix, accuracy_score\n",
        "\n",
        "targets = list()\n",
        "preds = list()\n",
        "correct = 0\n",
        "model.load_state_dict(torch.load('SmartFall_gru.pth'))\n",
        "with torch.no_grad():\n",
        "    for X, y in test_loader:\n",
        "        X, y = X.cuda(), y.cuda()\n",
        "        output = model(X.float())\n",
        "        pred = output.max(1, keepdim=True)[1]\n",
        "        correct += pred.eq(y.view_as(pred)).sum().item()\n",
        "\n",
        "        targets += list(y.cpu().numpy())\n",
        "        preds += list(pred.cpu().numpy())\n",
        "\n",
        "test_acc = 100. * correct / len(test_loader.dataset)\n",
        "confusion_mtx = confusion_matrix(targets, preds)\n",
        "print('Accuracy:' ,test_acc)"
      ],
      "metadata": {
        "colab": {
          "base_uri": "https://localhost:8080/"
        },
        "id": "e_wVCU9aGtVd",
        "outputId": "0c7b2465-84aa-4285-d900-a219ea5f681c"
      },
      "execution_count": null,
      "outputs": [
        {
          "output_type": "stream",
          "name": "stdout",
          "text": [
            "Accuracy: 92.3662935323383\n"
          ]
        }
      ]
    },
    {
      "cell_type": "code",
      "source": [
        "import seaborn\n",
        "classes = ['adl','fall']\n",
        "ax = seaborn.heatmap(confusion_mtx, annot=True, fmt='d')\n",
        "ax.set_title(\"Lstm prediction\")\n",
        "ax.set_xlabel('Predicted values')\n",
        "ax.set_ylabel('Actual values')\n",
        "\n",
        "ax.xaxis.set_ticklabels(classes, rotation=90)\n",
        "ax.yaxis.set_ticklabels(classes, rotation=0)\n",
        "\n",
        "\n",
        "plt.show()"
      ],
      "metadata": {
        "colab": {
          "base_uri": "https://localhost:8080/",
          "height": 301
        },
        "id": "eRB9IyTmG5oY",
        "outputId": "8971501a-e86f-4e3f-9bd3-af69d672c965"
      },
      "execution_count": null,
      "outputs": [
        {
          "output_type": "display_data",
          "data": {
            "text/plain": [
              "<Figure size 432x288 with 2 Axes>"
            ],
            "image/png": "[encoded data removed]"
          },
          "metadata": {
            "needs_background": "light"
          }
        }
      ]
    },
    {
      "cell_type": "code",
      "source": [
        "print(classification_report(targets, preds))"
      ],
      "metadata": {
        "colab": {
          "base_uri": "https://localhost:8080/"
        },
        "id": "F2_S4e27GwcB",
        "outputId": "0a3d2766-d88b-4593-d696-6e85cc3f62b7"
      },
      "execution_count": null,
      "outputs": [
        {
          "output_type": "stream",
          "name": "stdout",
          "text": [
            "              precision    recall  f1-score   support\n",
            "\n",
            "           0       0.87      1.00      0.93      3216\n",
            "           1       1.00      0.85      0.92      3216\n",
            "\n",
            "    accuracy                           0.92      6432\n",
            "   macro avg       0.93      0.92      0.92      6432\n",
            "weighted avg       0.93      0.92      0.92      6432\n",
            "\n"
          ]
        }
      ]
    },
    {
      "cell_type": "code",
      "source": [
        "from sklearn.metrics import f1_score, recall_score, precision_score\n",
        "\n",
        "print(f1_score(targets, preds))\n",
        "print(recall_score(targets, preds))\n",
        "print(precision_score(targets, preds))"
      ],
      "metadata": {
        "colab": {
          "base_uri": "https://localhost:8080/"
        },
        "id": "iry2SJzLGzsY",
        "outputId": "4d44a91e-502a-45e2-833d-2b0645e20adb"
      },
      "execution_count": null,
      "outputs": [
        {
          "output_type": "stream",
          "name": "stdout",
          "text": [
            "0.9176865046102264\n",
            "0.8510572139303483\n",
            "0.9956347762822845\n"
          ]
        }
      ]
    }
  ]
}