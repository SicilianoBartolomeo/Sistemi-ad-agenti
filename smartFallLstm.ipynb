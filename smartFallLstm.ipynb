{
  "nbformat": 4,
  "nbformat_minor": 0,
  "metadata": {
    "colab": {
      "provenance": [],
      "authorship_tag": "ABX9TyOUIbOFSDWrLGieV2qdFLme",
      "include_colab_link": true
    },
    "kernelspec": {
      "name": "python3",
      "display_name": "Python 3"
    },
    "language_info": {
      "name": "python"
    },
    "accelerator": "GPU",
    "gpuClass": "standard",
    "widgets": {
      "application/vnd.jupyter.widget-state+json": {
        "8b4a678d32f94629ba07ec353bb8f497": {
          "model_module": "@jupyter-widgets/controls",
          "model_name": "HBoxModel",
          "model_module_version": "1.5.0",
          "state": {
            "_dom_classes": [],
            "_model_module": "@jupyter-widgets/controls",
            "_model_module_version": "1.5.0",
            "_model_name": "HBoxModel",
            "_view_count": null,
            "_view_module": "@jupyter-widgets/controls",
            "_view_module_version": "1.5.0",
            "_view_name": "HBoxView",
            "box_style": "",
            "children": [
              "IPY_MODEL_e9fce01425f547c88744ef0f0082734b",
              "IPY_MODEL_212be5dd6f7f40fbb3571d76ec319fe3",
              "IPY_MODEL_5de07c40d7a24dd38567b4d1b0729896"
            ],
            "layout": "IPY_MODEL_6cb9223605a142569f5dc8f2b6776723"
          }
        },
        "e9fce01425f547c88744ef0f0082734b": {
          "model_module": "@jupyter-widgets/controls",
          "model_name": "HTMLModel",
          "model_module_version": "1.5.0",
          "state": {
            "_dom_classes": [],
            "_model_module": "@jupyter-widgets/controls",
            "_model_module_version": "1.5.0",
            "_model_name": "HTMLModel",
            "_view_count": null,
            "_view_module": "@jupyter-widgets/controls",
            "_view_module_version": "1.5.0",
            "_view_name": "HTMLView",
            "description": "",
            "description_tooltip": null,
            "layout": "IPY_MODEL_8cbac7b8f4be4c138e0e3ca7b051f774",
            "placeholder": "​",
            "style": "IPY_MODEL_c596bc3237d8472799bc13e19c3d6303",
            "value": "100%"
          }
        },
        "212be5dd6f7f40fbb3571d76ec319fe3": {
          "model_module": "@jupyter-widgets/controls",
          "model_name": "FloatProgressModel",
          "model_module_version": "1.5.0",
          "state": {
            "_dom_classes": [],
            "_model_module": "@jupyter-widgets/controls",
            "_model_module_version": "1.5.0",
            "_model_name": "FloatProgressModel",
            "_view_count": null,
            "_view_module": "@jupyter-widgets/controls",
            "_view_module_version": "1.5.0",
            "_view_name": "ProgressView",
            "bar_style": "success",
            "description": "",
            "description_tooltip": null,
            "layout": "IPY_MODEL_e93c432b59d0416e8a5bb059b0fea157",
            "max": 92741,
            "min": 0,
            "orientation": "horizontal",
            "style": "IPY_MODEL_862812520aac4c20b8e6305d599924d4",
            "value": 92741
          }
        },
        "5de07c40d7a24dd38567b4d1b0729896": {
          "model_module": "@jupyter-widgets/controls",
          "model_name": "HTMLModel",
          "model_module_version": "1.5.0",
          "state": {
            "_dom_classes": [],
            "_model_module": "@jupyter-widgets/controls",
            "_model_module_version": "1.5.0",
            "_model_name": "HTMLModel",
            "_view_count": null,
            "_view_module": "@jupyter-widgets/controls",
            "_view_module_version": "1.5.0",
            "_view_name": "HTMLView",
            "description": "",
            "description_tooltip": null,
            "layout": "IPY_MODEL_05afc0cf232449ea9fa609751f424f08",
            "placeholder": "​",
            "style": "IPY_MODEL_9b1f3bc722464dd4b99b28e24e3d021c",
            "value": " 92741/92741 [00:16&lt;00:00, 7101.24it/s]"
          }
        },
        "6cb9223605a142569f5dc8f2b6776723": {
          "model_module": "@jupyter-widgets/base",
          "model_name": "LayoutModel",
          "model_module_version": "1.2.0",
          "state": {
            "_model_module": "@jupyter-widgets/base",
            "_model_module_version": "1.2.0",
            "_model_name": "LayoutModel",
            "_view_count": null,
            "_view_module": "@jupyter-widgets/base",
            "_view_module_version": "1.2.0",
            "_view_name": "LayoutView",
            "align_content": null,
            "align_items": null,
            "align_self": null,
            "border": null,
            "bottom": null,
            "display": null,
            "flex": null,
            "flex_flow": null,
            "grid_area": null,
            "grid_auto_columns": null,
            "grid_auto_flow": null,
            "grid_auto_rows": null,
            "grid_column": null,
            "grid_gap": null,
            "grid_row": null,
            "grid_template_areas": null,
            "grid_template_columns": null,
            "grid_template_rows": null,
            "height": null,
            "justify_content": null,
            "justify_items": null,
            "left": null,
            "margin": null,
            "max_height": null,
            "max_width": null,
            "min_height": null,
            "min_width": null,
            "object_fit": null,
            "object_position": null,
            "order": null,
            "overflow": null,
            "overflow_x": null,
            "overflow_y": null,
            "padding": null,
            "right": null,
            "top": null,
            "visibility": null,
            "width": null
          }
        },
        "8cbac7b8f4be4c138e0e3ca7b051f774": {
          "model_module": "@jupyter-widgets/base",
          "model_name": "LayoutModel",
          "model_module_version": "1.2.0",
          "state": {
            "_model_module": "@jupyter-widgets/base",
            "_model_module_version": "1.2.0",
            "_model_name": "LayoutModel",
            "_view_count": null,
            "_view_module": "@jupyter-widgets/base",
            "_view_module_version": "1.2.0",
            "_view_name": "LayoutView",
            "align_content": null,
            "align_items": null,
            "align_self": null,
            "border": null,
            "bottom": null,
            "display": null,
            "flex": null,
            "flex_flow": null,
            "grid_area": null,
            "grid_auto_columns": null,
            "grid_auto_flow": null,
            "grid_auto_rows": null,
            "grid_column": null,
            "grid_gap": null,
            "grid_row": null,
            "grid_template_areas": null,
            "grid_template_columns": null,
            "grid_template_rows": null,
            "height": null,
            "justify_content": null,
            "justify_items": null,
            "left": null,
            "margin": null,
            "max_height": null,
            "max_width": null,
            "min_height": null,
            "min_width": null,
            "object_fit": null,
            "object_position": null,
            "order": null,
            "overflow": null,
            "overflow_x": null,
            "overflow_y": null,
            "padding": null,
            "right": null,
            "top": null,
            "visibility": null,
            "width": null
          }
        },
        "c596bc3237d8472799bc13e19c3d6303": {
          "model_module": "@jupyter-widgets/controls",
          "model_name": "DescriptionStyleModel",
          "model_module_version": "1.5.0",
          "state": {
            "_model_module": "@jupyter-widgets/controls",
            "_model_module_version": "1.5.0",
            "_model_name": "DescriptionStyleModel",
            "_view_count": null,
            "_view_module": "@jupyter-widgets/base",
            "_view_module_version": "1.2.0",
            "_view_name": "StyleView",
            "description_width": ""
          }
        },
        "e93c432b59d0416e8a5bb059b0fea157": {
          "model_module": "@jupyter-widgets/base",
          "model_name": "LayoutModel",
          "model_module_version": "1.2.0",
          "state": {
            "_model_module": "@jupyter-widgets/base",
            "_model_module_version": "1.2.0",
            "_model_name": "LayoutModel",
            "_view_count": null,
            "_view_module": "@jupyter-widgets/base",
            "_view_module_version": "1.2.0",
            "_view_name": "LayoutView",
            "align_content": null,
            "align_items": null,
            "align_self": null,
            "border": null,
            "bottom": null,
            "display": null,
            "flex": null,
            "flex_flow": null,
            "grid_area": null,
            "grid_auto_columns": null,
            "grid_auto_flow": null,
            "grid_auto_rows": null,
            "grid_column": null,
            "grid_gap": null,
            "grid_row": null,
            "grid_template_areas": null,
            "grid_template_columns": null,
            "grid_template_rows": null,
            "height": null,
            "justify_content": null,
            "justify_items": null,
            "left": null,
            "margin": null,
            "max_height": null,
            "max_width": null,
            "min_height": null,
            "min_width": null,
            "object_fit": null,
            "object_position": null,
            "order": null,
            "overflow": null,
            "overflow_x": null,
            "overflow_y": null,
            "padding": null,
            "right": null,
            "top": null,
            "visibility": null,
            "width": null
          }
        },
        "862812520aac4c20b8e6305d599924d4": {
          "model_module": "@jupyter-widgets/controls",
          "model_name": "ProgressStyleModel",
          "model_module_version": "1.5.0",
          "state": {
            "_model_module": "@jupyter-widgets/controls",
            "_model_module_version": "1.5.0",
            "_model_name": "ProgressStyleModel",
            "_view_count": null,
            "_view_module": "@jupyter-widgets/base",
            "_view_module_version": "1.2.0",
            "_view_name": "StyleView",
            "bar_color": null,
            "description_width": ""
          }
        },
        "05afc0cf232449ea9fa609751f424f08": {
          "model_module": "@jupyter-widgets/base",
          "model_name": "LayoutModel",
          "model_module_version": "1.2.0",
          "state": {
            "_model_module": "@jupyter-widgets/base",
            "_model_module_version": "1.2.0",
            "_model_name": "LayoutModel",
            "_view_count": null,
            "_view_module": "@jupyter-widgets/base",
            "_view_module_version": "1.2.0",
            "_view_name": "LayoutView",
            "align_content": null,
            "align_items": null,
            "align_self": null,
            "border": null,
            "bottom": null,
            "display": null,
            "flex": null,
            "flex_flow": null,
            "grid_area": null,
            "grid_auto_columns": null,
            "grid_auto_flow": null,
            "grid_auto_rows": null,
            "grid_column": null,
            "grid_gap": null,
            "grid_row": null,
            "grid_template_areas": null,
            "grid_template_columns": null,
            "grid_template_rows": null,
            "height": null,
            "justify_content": null,
            "justify_items": null,
            "left": null,
            "margin": null,
            "max_height": null,
            "max_width": null,
            "min_height": null,
            "min_width": null,
            "object_fit": null,
            "object_position": null,
            "order": null,
            "overflow": null,
            "overflow_x": null,
            "overflow_y": null,
            "padding": null,
            "right": null,
            "top": null,
            "visibility": null,
            "width": null
          }
        },
        "9b1f3bc722464dd4b99b28e24e3d021c": {
          "model_module": "@jupyter-widgets/controls",
          "model_name": "DescriptionStyleModel",
          "model_module_version": "1.5.0",
          "state": {
            "_model_module": "@jupyter-widgets/controls",
            "_model_module_version": "1.5.0",
            "_model_name": "DescriptionStyleModel",
            "_view_count": null,
            "_view_module": "@jupyter-widgets/base",
            "_view_module_version": "1.2.0",
            "_view_name": "StyleView",
            "description_width": ""
          }
        },
        "904b6fddcf114e81a31c2d6517e5c609": {
          "model_module": "@jupyter-widgets/controls",
          "model_name": "HBoxModel",
          "model_module_version": "1.5.0",
          "state": {
            "_dom_classes": [],
            "_model_module": "@jupyter-widgets/controls",
            "_model_module_version": "1.5.0",
            "_model_name": "HBoxModel",
            "_view_count": null,
            "_view_module": "@jupyter-widgets/controls",
            "_view_module_version": "1.5.0",
            "_view_name": "HBoxView",
            "box_style": "",
            "children": [
              "IPY_MODEL_49276683e720419e9d8f1d8bfa38d7d9",
              "IPY_MODEL_574c3829a55b486ebe62e2a339aae880",
              "IPY_MODEL_75bf7f0a70e0464585b31b430bf93fc8"
            ],
            "layout": "IPY_MODEL_fc350b463aee477a81392aa9ad2c5271"
          }
        },
        "49276683e720419e9d8f1d8bfa38d7d9": {
          "model_module": "@jupyter-widgets/controls",
          "model_name": "HTMLModel",
          "model_module_version": "1.5.0",
          "state": {
            "_dom_classes": [],
            "_model_module": "@jupyter-widgets/controls",
            "_model_module_version": "1.5.0",
            "_model_name": "HTMLModel",
            "_view_count": null,
            "_view_module": "@jupyter-widgets/controls",
            "_view_module_version": "1.5.0",
            "_view_name": "HTMLView",
            "description": "",
            "description_tooltip": null,
            "layout": "IPY_MODEL_6ff748c9756d4d34bb9ab8290bc36e71",
            "placeholder": "​",
            "style": "IPY_MODEL_699506f7a69e45baaa8d9bf7e5f53965",
            "value": "100%"
          }
        },
        "574c3829a55b486ebe62e2a339aae880": {
          "model_module": "@jupyter-widgets/controls",
          "model_name": "FloatProgressModel",
          "model_module_version": "1.5.0",
          "state": {
            "_dom_classes": [],
            "_model_module": "@jupyter-widgets/controls",
            "_model_module_version": "1.5.0",
            "_model_name": "FloatProgressModel",
            "_view_count": null,
            "_view_module": "@jupyter-widgets/controls",
            "_view_module_version": "1.5.0",
            "_view_name": "ProgressView",
            "bar_style": "success",
            "description": "",
            "description_tooltip": null,
            "layout": "IPY_MODEL_0f8e51aea79e42c8a3880e73b085b38e",
            "max": 90985,
            "min": 0,
            "orientation": "horizontal",
            "style": "IPY_MODEL_a39cf23fb81d40dba6bfa25e80ebd5b3",
            "value": 90985
          }
        },
        "75bf7f0a70e0464585b31b430bf93fc8": {
          "model_module": "@jupyter-widgets/controls",
          "model_name": "HTMLModel",
          "model_module_version": "1.5.0",
          "state": {
            "_dom_classes": [],
            "_model_module": "@jupyter-widgets/controls",
            "_model_module_version": "1.5.0",
            "_model_name": "HTMLModel",
            "_view_count": null,
            "_view_module": "@jupyter-widgets/controls",
            "_view_module_version": "1.5.0",
            "_view_name": "HTMLView",
            "description": "",
            "description_tooltip": null,
            "layout": "IPY_MODEL_ef4f97d1d3844e6eb0e205d37bfeafd0",
            "placeholder": "​",
            "style": "IPY_MODEL_dbf0624a26af4b6bb3f6530c9b99d819",
            "value": " 90985/90985 [00:16&lt;00:00, 7148.78it/s]"
          }
        },
        "fc350b463aee477a81392aa9ad2c5271": {
          "model_module": "@jupyter-widgets/base",
          "model_name": "LayoutModel",
          "model_module_version": "1.2.0",
          "state": {
            "_model_module": "@jupyter-widgets/base",
            "_model_module_version": "1.2.0",
            "_model_name": "LayoutModel",
            "_view_count": null,
            "_view_module": "@jupyter-widgets/base",
            "_view_module_version": "1.2.0",
            "_view_name": "LayoutView",
            "align_content": null,
            "align_items": null,
            "align_self": null,
            "border": null,
            "bottom": null,
            "display": null,
            "flex": null,
            "flex_flow": null,
            "grid_area": null,
            "grid_auto_columns": null,
            "grid_auto_flow": null,
            "grid_auto_rows": null,
            "grid_column": null,
            "grid_gap": null,
            "grid_row": null,
            "grid_template_areas": null,
            "grid_template_columns": null,
            "grid_template_rows": null,
            "height": null,
            "justify_content": null,
            "justify_items": null,
            "left": null,
            "margin": null,
            "max_height": null,
            "max_width": null,
            "min_height": null,
            "min_width": null,
            "object_fit": null,
            "object_position": null,
            "order": null,
            "overflow": null,
            "overflow_x": null,
            "overflow_y": null,
            "padding": null,
            "right": null,
            "top": null,
            "visibility": null,
            "width": null
          }
        },
        "6ff748c9756d4d34bb9ab8290bc36e71": {
          "model_module": "@jupyter-widgets/base",
          "model_name": "LayoutModel",
          "model_module_version": "1.2.0",
          "state": {
            "_model_module": "@jupyter-widgets/base",
            "_model_module_version": "1.2.0",
            "_model_name": "LayoutModel",
            "_view_count": null,
            "_view_module": "@jupyter-widgets/base",
            "_view_module_version": "1.2.0",
            "_view_name": "LayoutView",
            "align_content": null,
            "align_items": null,
            "align_self": null,
            "border": null,
            "bottom": null,
            "display": null,
            "flex": null,
            "flex_flow": null,
            "grid_area": null,
            "grid_auto_columns": null,
            "grid_auto_flow": null,
            "grid_auto_rows": null,
            "grid_column": null,
            "grid_gap": null,
            "grid_row": null,
            "grid_template_areas": null,
            "grid_template_columns": null,
            "grid_template_rows": null,
            "height": null,
            "justify_content": null,
            "justify_items": null,
            "left": null,
            "margin": null,
            "max_height": null,
            "max_width": null,
            "min_height": null,
            "min_width": null,
            "object_fit": null,
            "object_position": null,
            "order": null,
            "overflow": null,
            "overflow_x": null,
            "overflow_y": null,
            "padding": null,
            "right": null,
            "top": null,
            "visibility": null,
            "width": null
          }
        },
        "699506f7a69e45baaa8d9bf7e5f53965": {
          "model_module": "@jupyter-widgets/controls",
          "model_name": "DescriptionStyleModel",
          "model_module_version": "1.5.0",
          "state": {
            "_model_module": "@jupyter-widgets/controls",
            "_model_module_version": "1.5.0",
            "_model_name": "DescriptionStyleModel",
            "_view_count": null,
            "_view_module": "@jupyter-widgets/base",
            "_view_module_version": "1.2.0",
            "_view_name": "StyleView",
            "description_width": ""
          }
        },
        "0f8e51aea79e42c8a3880e73b085b38e": {
          "model_module": "@jupyter-widgets/base",
          "model_name": "LayoutModel",
          "model_module_version": "1.2.0",
          "state": {
            "_model_module": "@jupyter-widgets/base",
            "_model_module_version": "1.2.0",
            "_model_name": "LayoutModel",
            "_view_count": null,
            "_view_module": "@jupyter-widgets/base",
            "_view_module_version": "1.2.0",
            "_view_name": "LayoutView",
            "align_content": null,
            "align_items": null,
            "align_self": null,
            "border": null,
            "bottom": null,
            "display": null,
            "flex": null,
            "flex_flow": null,
            "grid_area": null,
            "grid_auto_columns": null,
            "grid_auto_flow": null,
            "grid_auto_rows": null,
            "grid_column": null,
            "grid_gap": null,
            "grid_row": null,
            "grid_template_areas": null,
            "grid_template_columns": null,
            "grid_template_rows": null,
            "height": null,
            "justify_content": null,
            "justify_items": null,
            "left": null,
            "margin": null,
            "max_height": null,
            "max_width": null,
            "min_height": null,
            "min_width": null,
            "object_fit": null,
            "object_position": null,
            "order": null,
            "overflow": null,
            "overflow_x": null,
            "overflow_y": null,
            "padding": null,
            "right": null,
            "top": null,
            "visibility": null,
            "width": null
          }
        },
        "a39cf23fb81d40dba6bfa25e80ebd5b3": {
          "model_module": "@jupyter-widgets/controls",
          "model_name": "ProgressStyleModel",
          "model_module_version": "1.5.0",
          "state": {
            "_model_module": "@jupyter-widgets/controls",
            "_model_module_version": "1.5.0",
            "_model_name": "ProgressStyleModel",
            "_view_count": null,
            "_view_module": "@jupyter-widgets/base",
            "_view_module_version": "1.2.0",
            "_view_name": "StyleView",
            "bar_color": null,
            "description_width": ""
          }
        },
        "ef4f97d1d3844e6eb0e205d37bfeafd0": {
          "model_module": "@jupyter-widgets/base",
          "model_name": "LayoutModel",
          "model_module_version": "1.2.0",
          "state": {
            "_model_module": "@jupyter-widgets/base",
            "_model_module_version": "1.2.0",
            "_model_name": "LayoutModel",
            "_view_count": null,
            "_view_module": "@jupyter-widgets/base",
            "_view_module_version": "1.2.0",
            "_view_name": "LayoutView",
            "align_content": null,
            "align_items": null,
            "align_self": null,
            "border": null,
            "bottom": null,
            "display": null,
            "flex": null,
            "flex_flow": null,
            "grid_area": null,
            "grid_auto_columns": null,
            "grid_auto_flow": null,
            "grid_auto_rows": null,
            "grid_column": null,
            "grid_gap": null,
            "grid_row": null,
            "grid_template_areas": null,
            "grid_template_columns": null,
            "grid_template_rows": null,
            "height": null,
            "justify_content": null,
            "justify_items": null,
            "left": null,
            "margin": null,
            "max_height": null,
            "max_width": null,
            "min_height": null,
            "min_width": null,
            "object_fit": null,
            "object_position": null,
            "order": null,
            "overflow": null,
            "overflow_x": null,
            "overflow_y": null,
            "padding": null,
            "right": null,
            "top": null,
            "visibility": null,
            "width": null
          }
        },
        "dbf0624a26af4b6bb3f6530c9b99d819": {
          "model_module": "@jupyter-widgets/controls",
          "model_name": "DescriptionStyleModel",
          "model_module_version": "1.5.0",
          "state": {
            "_model_module": "@jupyter-widgets/controls",
            "_model_module_version": "1.5.0",
            "_model_name": "DescriptionStyleModel",
            "_view_count": null,
            "_view_module": "@jupyter-widgets/base",
            "_view_module_version": "1.2.0",
            "_view_name": "StyleView",
            "description_width": ""
          }
        }
      }
    }
  },
  "cells": [
    {
      "cell_type": "markdown",
      "metadata": {
        "id": "view-in-github",
        "colab_type": "text"
      },
      "source": [
        "<a href=\"https://colab.research.google.com/github/SicilianoBartolomeo/Sistemi-ad-agenti/blob/main/smartFallLstm.ipynb\" target=\"_parent\"><img src=\"https://colab.research.google.com/assets/colab-badge.svg\" alt=\"Open In Colab\"/></a>"
      ]
    },
    {
      "cell_type": "markdown",
      "source": [
        "confronto con stato dell'arte (articoli su dataset)\n",
        "valutare come sta fatto lo stato dell'arte\n",
        "in caso siano uguali scegliere quello più efficiente in termini di classificazione\n",
        "\n",
        "scrivere documentazione"
      ],
      "metadata": {
        "id": "DuIzM_yli0VP"
      }
    },
    {
      "cell_type": "code",
      "source": [
        "import matplotlib.pyplot as plt\n",
        "import numpy as np\n",
        "import pandas as pd\n",
        "import tqdm\n",
        "import collections \n",
        "import time\n",
        "%matplotlib inline\n",
        "\n",
        "from sklearn.model_selection import train_test_split\n",
        "from sklearn.preprocessing import LabelEncoder\n",
        "\n",
        "import torch\n",
        "from torch import nn\n",
        "from torch.nn import functional as F\n",
        "from torch.utils.data import TensorDataset, DataLoader\n",
        "from torch.optim.lr_scheduler import _LRScheduler"
      ],
      "metadata": {
        "id": "nzCAmKIR3aUw"
      },
      "execution_count": null,
      "outputs": []
    },
    {
      "cell_type": "code",
      "source": [
        "np.random.seed(42)\n",
        "device = 'cuda:0' if torch.cuda.is_available() else 'cpu'\n",
        "device"
      ],
      "metadata": {
        "colab": {
          "base_uri": "https://localhost:8080/",
          "height": 35
        },
        "id": "ySP8rEau3dSK",
        "outputId": "b77f2d97-3347-4776-bf1a-996f948409ba"
      },
      "execution_count": null,
      "outputs": [
        {
          "output_type": "execute_result",
          "data": {
            "text/plain": [
              "'cuda:0'"
            ],
            "application/vnd.google.colaboratory.intrinsic+json": {
              "type": "string"
            }
          },
          "metadata": {},
          "execution_count": 2
        }
      ]
    },
    {
      "cell_type": "code",
      "execution_count": null,
      "metadata": {
        "colab": {
          "base_uri": "https://localhost:8080/"
        },
        "id": "XW1g2c1n2d8l",
        "outputId": "f6490efb-97b4-4e3e-d19e-acb455f56ef5"
      },
      "outputs": [
        {
          "output_type": "stream",
          "name": "stdout",
          "text": [
            "Mounted at /content/gdrive/\n"
          ]
        }
      ],
      "source": [
        "from google.colab import drive\n",
        "\n",
        "drive.mount('/content/gdrive/', force_remount=True)"
      ]
    },
    {
      "cell_type": "code",
      "source": [
        "! unzip /content/gdrive/MyDrive/SmartFallDataSet.zip"
      ],
      "metadata": {
        "colab": {
          "base_uri": "https://localhost:8080/"
        },
        "id": "3MNFgQn63KdD",
        "outputId": "90b66502-403c-4a96-e79c-507ebb09e6d6"
      },
      "execution_count": null,
      "outputs": [
        {
          "output_type": "stream",
          "name": "stdout",
          "text": [
            "Archive:  /content/gdrive/MyDrive/SmartFallDataSet.zip\n",
            "   creating: SmartFallDataSet/\n",
            "   creating: SmartFallDataSet/notch/\n",
            "  inflating: SmartFallDataSet/notch/.DS_Store  \n",
            "   creating: __MACOSX/\n",
            "   creating: __MACOSX/SmartFallDataSet/\n",
            "   creating: __MACOSX/SmartFallDataSet/notch/\n",
            "  inflating: __MACOSX/SmartFallDataSet/notch/._.DS_Store  \n",
            "   creating: SmartFallDataSet/notch/Notch_Dataset_Wrist/\n",
            "  inflating: SmartFallDataSet/notch/Notch_Dataset_Wrist/32ms_User3_LeftWrist.csv  \n",
            "   creating: __MACOSX/SmartFallDataSet/notch/Notch_Dataset_Wrist/\n",
            "  inflating: __MACOSX/SmartFallDataSet/notch/Notch_Dataset_Wrist/._32ms_User3_LeftWrist.csv  \n",
            "  inflating: SmartFallDataSet/notch/Notch_Dataset_Wrist/32ms_User7_LeftWrist.csv  \n",
            "  inflating: __MACOSX/SmartFallDataSet/notch/Notch_Dataset_Wrist/._32ms_User7_LeftWrist.csv  \n",
            "  inflating: SmartFallDataSet/notch/Notch_Dataset_Wrist/32ms_User4_LeftWrist.csv  \n",
            "  inflating: __MACOSX/SmartFallDataSet/notch/Notch_Dataset_Wrist/._32ms_User4_LeftWrist.csv  \n",
            "  inflating: SmartFallDataSet/notch/Notch_Dataset_Wrist/32ms_User5_LeftWrist.csv  \n",
            "  inflating: __MACOSX/SmartFallDataSet/notch/Notch_Dataset_Wrist/._32ms_User5_LeftWrist.csv  \n",
            "  inflating: SmartFallDataSet/notch/Notch_Dataset_Wrist/32ms_User1_LeftWrist.csv  \n",
            "  inflating: __MACOSX/SmartFallDataSet/notch/Notch_Dataset_Wrist/._32ms_User1_LeftWrist.csv  \n",
            "  inflating: SmartFallDataSet/notch/Notch_Dataset_Wrist/32ms_User6_LeftWrist.csv  \n",
            "  inflating: __MACOSX/SmartFallDataSet/notch/Notch_Dataset_Wrist/._32ms_User6_LeftWrist.csv  \n",
            "  inflating: SmartFallDataSet/notch/Notch_Dataset_Wrist/32ms_User2_LeftWrist.csv  \n",
            "  inflating: __MACOSX/SmartFallDataSet/notch/Notch_Dataset_Wrist/._32ms_User2_LeftWrist.csv  \n",
            "  inflating: __MACOSX/SmartFallDataSet/notch/._Notch_Dataset_Wrist  \n",
            "  inflating: SmartFallDataSet/.DS_Store  \n",
            "  inflating: __MACOSX/SmartFallDataSet/._.DS_Store  \n",
            "   creating: SmartFallDataSet/SmartWatch/\n",
            "  inflating: SmartFallDataSet/SmartWatch/raw182_Training_Relabeled_Auto_25.csv  \n",
            "   creating: __MACOSX/SmartFallDataSet/SmartWatch/\n",
            "  inflating: __MACOSX/SmartFallDataSet/SmartWatch/._raw182_Training_Relabeled_Auto_25.csv  \n",
            "  inflating: SmartFallDataSet/SmartWatch/readme.txt  \n",
            "  inflating: __MACOSX/SmartFallDataSet/SmartWatch/._readme.txt  \n",
            "  inflating: SmartFallDataSet/SmartWatch/Raw_Data_90ADL.csv  \n",
            "  inflating: __MACOSX/SmartFallDataSet/SmartWatch/._Raw_Data_90ADL.csv  \n",
            "  inflating: SmartFallDataSet/SmartWatch/raw91_Testing_Relabeled_Auto_25.csv  \n",
            "  inflating: __MACOSX/SmartFallDataSet/SmartWatch/._raw91_Testing_Relabeled_Auto_25.csv  \n"
          ]
        }
      ]
    },
    {
      "cell_type": "code",
      "source": [
        "data_dir = \"/workspace/inkyung/Fall Detection/\"\n",
        "\n",
        "train = pd.read_csv('/content/SmartFallDataSet/SmartWatch/raw182_Training_Relabeled_Auto_25.csv')\n",
        "test = pd.read_csv('/content/SmartFallDataSet/SmartWatch/raw91_Testing_Relabeled_Auto_25.csv')"
      ],
      "metadata": {
        "id": "s_b132673tfh"
      },
      "execution_count": null,
      "outputs": []
    },
    {
      "cell_type": "code",
      "source": [
        "train = pd.read_csv('/content/gdrive/MyDrive/SmartFall Training.csv')\n",
        "test = pd.read_csv('/content/gdrive/MyDrive/SmartFall Testing.csv')"
      ],
      "metadata": {
        "id": "_9otpKAh707U"
      },
      "execution_count": null,
      "outputs": []
    },
    {
      "cell_type": "code",
      "source": [
        "n = 40\n",
        "X_train, y_train = list(), list()\n",
        "\n",
        "for i in tqdm.notebook.tqdm(range(0, len(train)-40)):\n",
        "    temp = list()\n",
        "    \n",
        "    temp.append(train[' ms_accelerometer_x'][i : i + n])\n",
        "    temp.append(train[' ms_accelerometer_y'][i : i + n])\n",
        "    temp.append(train[' ms_accelerometer_z'][i : i + n])\n",
        "    \n",
        "    cnt = collections.Counter(train['outcome'][i: i + n])\n",
        "    num_adl = cnt[0]\n",
        "    num_fall = cnt[1]\n",
        "    \n",
        "    if num_fall == 25:\n",
        "        y_train.append(1)\n",
        "    else:\n",
        "        y_train.append(0)\n",
        "    \n",
        "    X_train.append(temp)"
      ],
      "metadata": {
        "colab": {
          "base_uri": "https://localhost:8080/",
          "height": 49,
          "referenced_widgets": [
            "8b4a678d32f94629ba07ec353bb8f497",
            "e9fce01425f547c88744ef0f0082734b",
            "212be5dd6f7f40fbb3571d76ec319fe3",
            "5de07c40d7a24dd38567b4d1b0729896",
            "6cb9223605a142569f5dc8f2b6776723",
            "8cbac7b8f4be4c138e0e3ca7b051f774",
            "c596bc3237d8472799bc13e19c3d6303",
            "e93c432b59d0416e8a5bb059b0fea157",
            "862812520aac4c20b8e6305d599924d4",
            "05afc0cf232449ea9fa609751f424f08",
            "9b1f3bc722464dd4b99b28e24e3d021c"
          ]
        },
        "id": "61yYBCt_4LTS",
        "outputId": "2ecef21c-e043-4aac-89c6-3fcfe0585302"
      },
      "execution_count": null,
      "outputs": [
        {
          "output_type": "display_data",
          "data": {
            "text/plain": [
              "  0%|          | 0/92741 [00:00<?, ?it/s]"
            ],
            "application/vnd.jupyter.widget-view+json": {
              "version_major": 2,
              "version_minor": 0,
              "model_id": "8b4a678d32f94629ba07ec353bb8f497"
            }
          },
          "metadata": {}
        }
      ]
    },
    {
      "cell_type": "code",
      "source": [
        "n = 40\n",
        "X_test_adl, X_test_fall, y_test_adl, y_test_fall = list(), list(), list(), list()\n",
        "for i in tqdm.notebook.tqdm(range(0, len(test) - 40)):\n",
        "    temp = list()\n",
        "    \n",
        "    temp.append(test[' ms_accelerometer_x'][i : i + n])\n",
        "    temp.append(test[' ms_accelerometer_y'][i : i + n])\n",
        "    temp.append(test[' ms_accelerometer_z'][i : i + n])\n",
        "    \n",
        "    cnt = collections.Counter(test['outcome'][i : i + n])\n",
        "    num_adl = cnt[0]\n",
        "    num_fall = cnt[1]\n",
        "    \n",
        "    if num_fall == 25:\n",
        "        y_test_fall.append(1)\n",
        "        X_test_fall.append(temp)\n",
        "    else:\n",
        "        y_test_adl.append(0)\n",
        "        X_test_adl.append(temp)"
      ],
      "metadata": {
        "colab": {
          "base_uri": "https://localhost:8080/",
          "height": 49,
          "referenced_widgets": [
            "904b6fddcf114e81a31c2d6517e5c609",
            "49276683e720419e9d8f1d8bfa38d7d9",
            "574c3829a55b486ebe62e2a339aae880",
            "75bf7f0a70e0464585b31b430bf93fc8",
            "fc350b463aee477a81392aa9ad2c5271",
            "6ff748c9756d4d34bb9ab8290bc36e71",
            "699506f7a69e45baaa8d9bf7e5f53965",
            "0f8e51aea79e42c8a3880e73b085b38e",
            "a39cf23fb81d40dba6bfa25e80ebd5b3",
            "ef4f97d1d3844e6eb0e205d37bfeafd0",
            "dbf0624a26af4b6bb3f6530c9b99d819"
          ]
        },
        "id": "kshKFMXP4S2D",
        "outputId": "a65a8cab-80bc-4be6-bf0b-045c86cd46a3"
      },
      "execution_count": null,
      "outputs": [
        {
          "output_type": "display_data",
          "data": {
            "text/plain": [
              "  0%|          | 0/90985 [00:00<?, ?it/s]"
            ],
            "application/vnd.jupyter.widget-view+json": {
              "version_major": 2,
              "version_minor": 0,
              "model_id": "904b6fddcf114e81a31c2d6517e5c609"
            }
          },
          "metadata": {}
        }
      ]
    },
    {
      "cell_type": "code",
      "source": [
        "print(len(y_test_fall))\n",
        "print(len(y_test_adl))"
      ],
      "metadata": {
        "colab": {
          "base_uri": "https://localhost:8080/"
        },
        "id": "Q-anK8794XXa",
        "outputId": "00282c6d-441a-43c6-a4b7-8b30ecf37a1b"
      },
      "execution_count": null,
      "outputs": [
        {
          "output_type": "stream",
          "name": "stdout",
          "text": [
            "3216\n",
            "87769\n"
          ]
        }
      ]
    },
    {
      "cell_type": "code",
      "source": [
        "# to keep the balance between ADL and FALL data, used only part of ADL data\n",
        "\n",
        "X_test_adl = X_test_adl[:3216]\n",
        "y_test_adl = y_test_adl[:3216]\n",
        "\n",
        "y_test = y_test_adl + y_test_fall\n",
        "X_test = X_test_adl + X_test_fall"
      ],
      "metadata": {
        "id": "Gj-UIXJL4cRJ"
      },
      "execution_count": null,
      "outputs": []
    },
    {
      "cell_type": "code",
      "source": [
        "print('length of test data', len(X_test))"
      ],
      "metadata": {
        "colab": {
          "base_uri": "https://localhost:8080/"
        },
        "id": "W1_SZWFN4fXS",
        "outputId": "a95e83a1-bf36-4aba-ba0a-66a04ac7e8bf"
      },
      "execution_count": null,
      "outputs": [
        {
          "output_type": "stream",
          "name": "stdout",
          "text": [
            "length of test data 6432\n"
          ]
        }
      ]
    },
    {
      "cell_type": "code",
      "source": [
        "print('train data adl and fall ratio')\n",
        "print('--------------------------------')\n",
        "cnt_train = collections.Counter(y_train)\n",
        "print('train data adl ratio: ', cnt_train[0])\n",
        "print('train data fall ratio: ', cnt_train[1])\n",
        "print('--------------------------------')\n",
        "\n",
        "cnt_test = collections.Counter(y_test)\n",
        "print('test data adl ratio: ', cnt_test[0])\n",
        "print('test data fall ratio: ', cnt_test[1])"
      ],
      "metadata": {
        "colab": {
          "base_uri": "https://localhost:8080/"
        },
        "id": "P-0TgeF24jbx",
        "outputId": "8f93c55f-7b18-43a8-debd-e90be38ded11"
      },
      "execution_count": null,
      "outputs": [
        {
          "output_type": "stream",
          "name": "stdout",
          "text": [
            "train data adl and fall ratio\n",
            "--------------------------------\n",
            "train data adl ratio:  87509\n",
            "train data fall ratio:  5232\n",
            "--------------------------------\n",
            "test data adl ratio:  3216\n",
            "test data fall ratio:  3216\n"
          ]
        }
      ]
    },
    {
      "cell_type": "code",
      "source": [
        "class CyclicLR(_LRScheduler):\n",
        "    \n",
        "    def __init__(self, optimizer, schedule, last_epoch=-1):\n",
        "        assert callable(schedule)\n",
        "        self.schedule = schedule\n",
        "        super().__init__(optimizer, last_epoch)\n",
        "\n",
        "    def get_lr(self):\n",
        "        return [self.schedule(self.last_epoch, lr) for lr in self.base_lrs]"
      ],
      "metadata": {
        "id": "8yUmnJWS4o1y"
      },
      "execution_count": null,
      "outputs": []
    },
    {
      "cell_type": "code",
      "source": [
        "def cosine(t_max, eta_min=0):\n",
        "    \n",
        "    def scheduler(epoch, base_lr):\n",
        "        t = epoch % t_max\n",
        "        return eta_min + (base_lr - eta_min)*(1 + np.cos(np.pi*t/t_max))/2\n",
        "    \n",
        "    return scheduler"
      ],
      "metadata": {
        "id": "z8w5MCQd4rOE"
      },
      "execution_count": null,
      "outputs": []
    },
    {
      "cell_type": "code",
      "source": [
        "n = 100\n",
        "sched = cosine(n)\n",
        "lrs = [sched(t, 1) for t in range(n * 4)]\n",
        "plt.plot(lrs)"
      ],
      "metadata": {
        "colab": {
          "base_uri": "https://localhost:8080/",
          "height": 282
        },
        "id": "9ypoXRCC4t6Y",
        "outputId": "37f9fd85-f20d-41a0-98c8-74213d5b9b70"
      },
      "execution_count": null,
      "outputs": [
        {
          "output_type": "execute_result",
          "data": {
            "text/plain": [
              "[<matplotlib.lines.Line2D at 0x7f6423a15640>]"
            ]
          },
          "metadata": {},
          "execution_count": 13
        },
        {
          "output_type": "display_data",
          "data": {
            "text/plain": [
              "<Figure size 432x288 with 1 Axes>"
            ],
            "image/png": "[encoded data removed]"
          },
          "metadata": {
            "needs_background": "light"
          }
        }
      ]
    },
    {
      "cell_type": "code",
      "source": [
        "class LSTMNet(nn.Module):\n",
        "    def __init__(self, input_dim, hidden_dim, n_layers, output_dim):\n",
        "        super(LSTMNet, self).__init__()\n",
        "        self.hidden_dim = hidden_dim\n",
        "        self.n_layers = n_layers\n",
        "        \n",
        "        self.lstm = nn.LSTM(input_dim, hidden_dim, n_layers, batch_first=True)\n",
        "        self.fc = nn.Linear(hidden_dim, output_dim)\n",
        "        self.relu = nn.ReLU()\n",
        "        \n",
        "    def forward(self, x):\n",
        "        h0, c0 = self.init_hidden(x)\n",
        "        out, (hn, cn) = self.lstm(x, (h0, c0))\n",
        "        out = self.fc(self.relu(out[:, -1]))\n",
        "        return out\n",
        "    \n",
        "    def init_hidden(self, x):\n",
        "        h0 = torch.zeros(self.n_layers, x.size(0), self.hidden_dim)\n",
        "        c0 = torch.zeros(self.n_layers, x.size(0), self.hidden_dim)\n",
        "        return [t.cuda() for t in (h0, c0)]"
      ],
      "metadata": {
        "id": "IykbGBbs4xrz"
      },
      "execution_count": null,
      "outputs": []
    },
    {
      "cell_type": "code",
      "source": [
        "X_train = np.asarray(X_train).reshape(-1, 40, 3)\n",
        "y_train = np.asarray(y_train).reshape(-1, )\n",
        "\n",
        "X_test = np.asarray(X_test).reshape(-1, 40, 3)\n",
        "y_test = np.asarray(y_test).reshape(-1, )"
      ],
      "metadata": {
        "id": "fUy7dYfE40ZO"
      },
      "execution_count": null,
      "outputs": []
    },
    {
      "cell_type": "code",
      "source": [
        "from sklearn.preprocessing import LabelEncoder\n",
        "enc = LabelEncoder()\n",
        "\n",
        "y_train = enc.fit_transform(y_train)\n",
        "y_test = enc.fit_transform(y_test)"
      ],
      "metadata": {
        "id": "iEwNJJsg43mS"
      },
      "execution_count": null,
      "outputs": []
    },
    {
      "cell_type": "code",
      "source": [
        "X_train, X_valid, y_train, y_valid = train_test_split(X_train, y_train, test_size=0.1)"
      ],
      "metadata": {
        "id": "szf-gpkZ46IV"
      },
      "execution_count": null,
      "outputs": []
    },
    {
      "cell_type": "code",
      "source": [
        "batch_size = 128\n",
        "\n",
        "train_data = TensorDataset(torch.from_numpy(X_train), torch.from_numpy(y_train))\n",
        "train_loader = torch.utils.data.DataLoader(\n",
        "    train_data,\n",
        "    shuffle=True, batch_size=batch_size)\n",
        "\n",
        "valid_data = TensorDataset(torch.from_numpy(X_valid), torch.from_numpy(y_valid))\n",
        "valid_loader = torch.utils.data.DataLoader(\n",
        "    valid_data,\n",
        "    shuffle=True, batch_size=batch_size)\n",
        "\n",
        "test_data =TensorDataset(torch.from_numpy(X_test), torch.from_numpy(y_test))\n",
        "test_loader = torch.utils.data.DataLoader(\n",
        "    test_data,\n",
        "    shuffle=True, batch_size=batch_size)"
      ],
      "metadata": {
        "id": "L_J8hBww48i0"
      },
      "execution_count": null,
      "outputs": []
    },
    {
      "cell_type": "code",
      "source": [
        "input_dim = next(iter(train_loader))[0].shape[2]\n",
        "output_dim = 2\n",
        "n_layers = 2\n",
        "hidden_dim = 256\n",
        "\n",
        "lr = 0.0001\n",
        "n_epochs = 40\n",
        "iterations_per_epoch = len(train_loader)\n",
        "best_acc = 0.\n",
        "patience, trials = 15, 0\n",
        "\n",
        "model = LSTMNet(input_dim, hidden_dim, output_dim, n_layers).cuda()\n",
        "print(model)\n",
        "criterion = nn.CrossEntropyLoss().cuda()\n",
        "optimizer = torch.optim.Adam(model.parameters(), lr=lr)\n",
        "sched = CyclicLR(optimizer, cosine(t_max=iterations_per_epoch * 2, eta_min = lr/10))\n",
        "epoch_times = []"
      ],
      "metadata": {
        "colab": {
          "base_uri": "https://localhost:8080/"
        },
        "id": "jpcWGN344_Pr",
        "outputId": "0a5f0bcd-09df-4d86-b404-b23acdb10ab0"
      },
      "execution_count": null,
      "outputs": [
        {
          "output_type": "stream",
          "name": "stdout",
          "text": [
            "LSTMNet(\n",
            "  (lstm): LSTM(3, 256, num_layers=2, batch_first=True)\n",
            "  (fc): Linear(in_features=256, out_features=2, bias=True)\n",
            "  (relu): ReLU()\n",
            ")\n"
          ]
        }
      ]
    },
    {
      "cell_type": "code",
      "source": [
        "print('Start model training')\n",
        "train_loss, train_acc = list(), list()\n",
        "for epoch in range(1, n_epochs + 1):\n",
        "    start_time = time.process_time()\n",
        "    for i, (X_batch, y_batch) in enumerate(train_loader):\n",
        "        model.train()\n",
        "        X_batch = X_batch.float().cuda()\n",
        "        y_batch = y_batch.cuda()\n",
        "        optimizer.zero_grad()\n",
        "        out = model(X_batch)\n",
        "        loss = criterion(out, y_batch)\n",
        "        loss.backward()\n",
        "        optimizer.step()\n",
        "        sched.step()\n",
        "    current_time = time.process_time()\n",
        "    epoch_times.append(current_time-start_time)\n",
        "    \n",
        "    model.eval()\n",
        "    correct, total = 0, 0\n",
        "    for x_val, y_val in valid_loader:\n",
        "        x_val, y_val = [t.cuda() for t in (x_val.float(), y_val)]\n",
        "        out = model(x_val)\n",
        "        preds = F.log_softmax(out, dim=1).argmax(dim=1)\n",
        "        total += y_val.size(0)\n",
        "        correct += (preds == y_val).sum().item()\n",
        "        \n",
        "    acc = correct / total\n",
        "    \n",
        "    train_loss.append(loss.item())\n",
        "    train_acc.append(acc)\n",
        "    \n",
        "    if epoch % 5 == 0:\n",
        "        print(f'Epoch: {epoch:3d}. Loss: {loss.item():.4f}. Acc.: {acc:2.2%}')\n",
        "        \n",
        "    if acc > best_acc:\n",
        "        trials = 0\n",
        "        best_acc = acc\n",
        "        torch.save(model.state_dict(), 'SmartFall_lstm.pth')\n",
        "        print(f'Epoch {epoch} best model saved with accuracy: {best_acc:2.2%}')\n",
        "    else:\n",
        "        trials += 1\n",
        "        if trials >= patience:\n",
        "            print(f'Early stopping on epoch {epoch}')\n",
        "            break\n",
        "print(\"Total Training Time: {} seconds\".format(str(sum(epoch_times))))"
      ],
      "metadata": {
        "colab": {
          "base_uri": "https://localhost:8080/"
        },
        "id": "QbjOscZP5Hx1",
        "outputId": "350d01fb-5492-4958-8b71-2c75ca7fc0e7"
      },
      "execution_count": null,
      "outputs": [
        {
          "output_type": "stream",
          "name": "stdout",
          "text": [
            "Start model training\n",
            "Epoch 1 best model saved with accuracy: 94.27%\n",
            "Epoch 3 best model saved with accuracy: 96.56%\n",
            "Epoch 4 best model saved with accuracy: 97.04%\n",
            "Epoch:   5. Loss: 0.0011. Acc.: 97.55%\n",
            "Epoch 5 best model saved with accuracy: 97.55%\n",
            "Epoch 6 best model saved with accuracy: 97.70%\n",
            "Epoch 7 best model saved with accuracy: 97.81%\n",
            "Epoch 8 best model saved with accuracy: 98.07%\n",
            "Epoch:  10. Loss: 0.0023. Acc.: 98.31%\n",
            "Epoch 10 best model saved with accuracy: 98.31%\n",
            "Epoch 12 best model saved with accuracy: 98.44%\n",
            "Epoch 14 best model saved with accuracy: 98.45%\n",
            "Epoch:  15. Loss: 0.0031. Acc.: 98.35%\n",
            "Epoch 16 best model saved with accuracy: 98.51%\n",
            "Epoch 19 best model saved with accuracy: 98.56%\n",
            "Epoch:  20. Loss: 0.0145. Acc.: 98.52%\n",
            "Epoch 22 best model saved with accuracy: 98.60%\n",
            "Epoch 24 best model saved with accuracy: 98.75%\n",
            "Epoch:  25. Loss: 0.1208. Acc.: 98.62%\n",
            "Epoch:  30. Loss: 0.0009. Acc.: 98.80%\n",
            "Epoch 30 best model saved with accuracy: 98.80%\n",
            "Epoch 32 best model saved with accuracy: 98.82%\n",
            "Epoch 34 best model saved with accuracy: 98.94%\n",
            "Epoch:  35. Loss: 0.0001. Acc.: 98.82%\n",
            "Epoch 38 best model saved with accuracy: 99.04%\n",
            "Epoch:  40. Loss: 0.0307. Acc.: 99.02%\n",
            "Total Training Time: 294.9640203750002 seconds\n"
          ]
        }
      ]
    },
    {
      "cell_type": "code",
      "source": [
        "plt.figure(figsize=(10, 3))\n",
        "plt.suptitle('LSTM Model', fontsize=20, y=1.1)\n",
        "plt.subplot(1, 2, 1)\n",
        "plt.plot(np.arange(len(train_loss)), train_loss)\n",
        "plt.yticks([0.0, 0.10, 0.20], fontsize=15)\n",
        "plt.xticks([0, 20, 40], fontsize=15)\n",
        "plt.title('Loss', fontsize=20)\n",
        "\n",
        "plt.subplot(1, 2, 2)\n",
        "plt.plot(np.arange(len(train_acc)), train_acc)\n",
        "plt.yticks([0.94, 0.96, 0.98, 1.0],fontsize=15)\n",
        "plt.xticks([0, 20, 40], fontsize=15)\n",
        "plt.title('Accuracy',fontsize=20)\n",
        "plt.subplots_adjust(hspace=1)\n",
        "\n",
        "plt.show()"
      ],
      "metadata": {
        "colab": {
          "base_uri": "https://localhost:8080/",
          "height": 264
        },
        "id": "ocE-v5FQ5RwQ",
        "outputId": "70452f5c-90fd-4540-8937-67d54a766d02"
      },
      "execution_count": null,
      "outputs": [
        {
          "output_type": "display_data",
          "data": {
            "text/plain": [
              "<Figure size 720x216 with 2 Axes>"
            ],
            "image/png": "[encoded data removed]"
          },
          "metadata": {
            "needs_background": "light"
          }
        }
      ]
    },
    {
      "cell_type": "code",
      "source": [
        "# evaluation with test dataset\n",
        "from sklearn.metrics import classification_report, confusion_matrix, accuracy_score\n",
        "\n",
        "targets = list()\n",
        "preds = list()\n",
        "correct = 0\n",
        "model.load_state_dict(torch.load('SmartFall_lstm.pth'))\n",
        "with torch.no_grad():\n",
        "    for X, y in test_loader:\n",
        "        X, y = X.cuda(), y.cuda()\n",
        "        output = model(X.float())\n",
        "        pred = output.max(1, keepdim=True)[1]\n",
        "        correct += pred.eq(y.view_as(pred)).sum().item()\n",
        "\n",
        "        targets += list(y.cpu().numpy())\n",
        "        preds += list(pred.cpu().numpy())\n",
        "\n",
        "test_acc = 100. * correct / len(test_loader.dataset)\n",
        "confusion_mtx = confusion_matrix(targets, preds)\n",
        "print(test_acc)"
      ],
      "metadata": {
        "colab": {
          "base_uri": "https://localhost:8080/"
        },
        "id": "ErPMMHPF5Uza",
        "outputId": "818da214-852d-489b-ba4c-0b8cec04e822"
      },
      "execution_count": null,
      "outputs": [
        {
          "output_type": "stream",
          "name": "stdout",
          "text": [
            "92.64614427860697\n"
          ]
        }
      ]
    },
    {
      "cell_type": "code",
      "source": [
        "import seaborn\n",
        "classes = ['adl','fall']\n",
        "ax = seaborn.heatmap(confusion_mtx, annot=True, fmt='d')\n",
        "ax.set_title(\"Lstm prediction\")\n",
        "ax.set_xlabel('Predicted values')\n",
        "ax.set_ylabel('Actual values')\n",
        "\n",
        "ax.xaxis.set_ticklabels(classes, rotation=90)\n",
        "ax.yaxis.set_ticklabels(classes, rotation=0)\n",
        "\n",
        "\n",
        "plt.show()"
      ],
      "metadata": {
        "colab": {
          "base_uri": "https://localhost:8080/",
          "height": 301
        },
        "id": "XsOcduQ--Gsj",
        "outputId": "7e8fece3-3016-4f95-9cc5-10034d901e6a"
      },
      "execution_count": null,
      "outputs": [
        {
          "output_type": "display_data",
          "data": {
            "text/plain": [
              "<Figure size 432x288 with 2 Axes>"
            ],
            "image/png": "[encoded data removed]"
          },
          "metadata": {
            "needs_background": "light"
          }
        }
      ]
    },
    {
      "cell_type": "code",
      "source": [
        "print(classification_report(targets, preds))"
      ],
      "metadata": {
        "colab": {
          "base_uri": "https://localhost:8080/"
        },
        "id": "rLoyW9cg5XT4",
        "outputId": "001706e5-57e8-4fd7-b496-59bcfcf7e73c"
      },
      "execution_count": null,
      "outputs": [
        {
          "output_type": "stream",
          "name": "stdout",
          "text": [
            "              precision    recall  f1-score   support\n",
            "\n",
            "           0       0.87      1.00      0.93      3216\n",
            "           1       1.00      0.86      0.92      3216\n",
            "\n",
            "    accuracy                           0.93      6432\n",
            "   macro avg       0.94      0.93      0.93      6432\n",
            "weighted avg       0.94      0.93      0.93      6432\n",
            "\n"
          ]
        }
      ]
    },
    {
      "cell_type": "code",
      "source": [
        "from sklearn.metrics import f1_score, recall_score, precision_score\n",
        "\n",
        "print('F1:' ,f1_score(targets, preds))\n",
        "print('Recall:' ,recall_score(targets, preds))\n",
        "print('Precision' ,precision_score(targets, preds))"
      ],
      "metadata": {
        "colab": {
          "base_uri": "https://localhost:8080/"
        },
        "id": "seFiDIxX5ZoS",
        "outputId": "e89cad71-e3c8-4e8c-8737-04286e37d598"
      },
      "execution_count": null,
      "outputs": [
        {
          "output_type": "stream",
          "name": "stdout",
          "text": [
            "F1: 0.9208633093525179\n",
            "Recall: 0.8557213930348259\n",
            "Precision 0.9967403114813473\n"
          ]
        }
      ]
    }
  ]
}