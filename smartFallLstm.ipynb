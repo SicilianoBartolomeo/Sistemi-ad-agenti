{
  "nbformat": 4,
  "nbformat_minor": 0,
  "metadata": {
    "colab": {
      "provenance": [],
      "authorship_tag": "ABX9TyNi/V1g3+IfKUM3Ea5tjOjY",
      "include_colab_link": true
    },
    "kernelspec": {
      "name": "python3",
      "display_name": "Python 3"
    },
    "language_info": {
      "name": "python"
    },
    "accelerator": "GPU",
    "gpuClass": "standard",
    "widgets": {
      "application/vnd.jupyter.widget-state+json": {
        "66725596184249c0b4bc1ddb2daa29c6": {
          "model_module": "@jupyter-widgets/controls",
          "model_name": "HBoxModel",
          "model_module_version": "1.5.0",
          "state": {
            "_dom_classes": [],
            "_model_module": "@jupyter-widgets/controls",
            "_model_module_version": "1.5.0",
            "_model_name": "HBoxModel",
            "_view_count": null,
            "_view_module": "@jupyter-widgets/controls",
            "_view_module_version": "1.5.0",
            "_view_name": "HBoxView",
            "box_style": "",
            "children": [
              "IPY_MODEL_d4f4edecc69348838db608bb46fed10f",
              "IPY_MODEL_93c2ff3d9f2e40559c7f51020125777e",
              "IPY_MODEL_665bb207b1b24caa952da82bc4daf8a5"
            ],
            "layout": "IPY_MODEL_967d7405476e4c59aeb0efbbac59d45e"
          }
        },
        "d4f4edecc69348838db608bb46fed10f": {
          "model_module": "@jupyter-widgets/controls",
          "model_name": "HTMLModel",
          "model_module_version": "1.5.0",
          "state": {
            "_dom_classes": [],
            "_model_module": "@jupyter-widgets/controls",
            "_model_module_version": "1.5.0",
            "_model_name": "HTMLModel",
            "_view_count": null,
            "_view_module": "@jupyter-widgets/controls",
            "_view_module_version": "1.5.0",
            "_view_name": "HTMLView",
            "description": "",
            "description_tooltip": null,
            "layout": "IPY_MODEL_a41d881c42c94e2893b752e6afe1b3e5",
            "placeholder": "​",
            "style": "IPY_MODEL_b20800c419d344739c6f628ffc6efff1",
            "value": "100%"
          }
        },
        "93c2ff3d9f2e40559c7f51020125777e": {
          "model_module": "@jupyter-widgets/controls",
          "model_name": "FloatProgressModel",
          "model_module_version": "1.5.0",
          "state": {
            "_dom_classes": [],
            "_model_module": "@jupyter-widgets/controls",
            "_model_module_version": "1.5.0",
            "_model_name": "FloatProgressModel",
            "_view_count": null,
            "_view_module": "@jupyter-widgets/controls",
            "_view_module_version": "1.5.0",
            "_view_name": "ProgressView",
            "bar_style": "success",
            "description": "",
            "description_tooltip": null,
            "layout": "IPY_MODEL_ce6c8bd0125c49c292ca4747c3b618e3",
            "max": 92741,
            "min": 0,
            "orientation": "horizontal",
            "style": "IPY_MODEL_d20a42baf242454783bee3dd52c00f12",
            "value": 92741
          }
        },
        "665bb207b1b24caa952da82bc4daf8a5": {
          "model_module": "@jupyter-widgets/controls",
          "model_name": "HTMLModel",
          "model_module_version": "1.5.0",
          "state": {
            "_dom_classes": [],
            "_model_module": "@jupyter-widgets/controls",
            "_model_module_version": "1.5.0",
            "_model_name": "HTMLModel",
            "_view_count": null,
            "_view_module": "@jupyter-widgets/controls",
            "_view_module_version": "1.5.0",
            "_view_name": "HTMLView",
            "description": "",
            "description_tooltip": null,
            "layout": "IPY_MODEL_850106ba4a6c49269f1d0fa98b67e97d",
            "placeholder": "​",
            "style": "IPY_MODEL_7c44fb14c17e4923b00dd67b62e716ec",
            "value": " 92741/92741 [00:20&lt;00:00, 2161.15it/s]"
          }
        },
        "967d7405476e4c59aeb0efbbac59d45e": {
          "model_module": "@jupyter-widgets/base",
          "model_name": "LayoutModel",
          "model_module_version": "1.2.0",
          "state": {
            "_model_module": "@jupyter-widgets/base",
            "_model_module_version": "1.2.0",
            "_model_name": "LayoutModel",
            "_view_count": null,
            "_view_module": "@jupyter-widgets/base",
            "_view_module_version": "1.2.0",
            "_view_name": "LayoutView",
            "align_content": null,
            "align_items": null,
            "align_self": null,
            "border": null,
            "bottom": null,
            "display": null,
            "flex": null,
            "flex_flow": null,
            "grid_area": null,
            "grid_auto_columns": null,
            "grid_auto_flow": null,
            "grid_auto_rows": null,
            "grid_column": null,
            "grid_gap": null,
            "grid_row": null,
            "grid_template_areas": null,
            "grid_template_columns": null,
            "grid_template_rows": null,
            "height": null,
            "justify_content": null,
            "justify_items": null,
            "left": null,
            "margin": null,
            "max_height": null,
            "max_width": null,
            "min_height": null,
            "min_width": null,
            "object_fit": null,
            "object_position": null,
            "order": null,
            "overflow": null,
            "overflow_x": null,
            "overflow_y": null,
            "padding": null,
            "right": null,
            "top": null,
            "visibility": null,
            "width": null
          }
        },
        "a41d881c42c94e2893b752e6afe1b3e5": {
          "model_module": "@jupyter-widgets/base",
          "model_name": "LayoutModel",
          "model_module_version": "1.2.0",
          "state": {
            "_model_module": "@jupyter-widgets/base",
            "_model_module_version": "1.2.0",
            "_model_name": "LayoutModel",
            "_view_count": null,
            "_view_module": "@jupyter-widgets/base",
            "_view_module_version": "1.2.0",
            "_view_name": "LayoutView",
            "align_content": null,
            "align_items": null,
            "align_self": null,
            "border": null,
            "bottom": null,
            "display": null,
            "flex": null,
            "flex_flow": null,
            "grid_area": null,
            "grid_auto_columns": null,
            "grid_auto_flow": null,
            "grid_auto_rows": null,
            "grid_column": null,
            "grid_gap": null,
            "grid_row": null,
            "grid_template_areas": null,
            "grid_template_columns": null,
            "grid_template_rows": null,
            "height": null,
            "justify_content": null,
            "justify_items": null,
            "left": null,
            "margin": null,
            "max_height": null,
            "max_width": null,
            "min_height": null,
            "min_width": null,
            "object_fit": null,
            "object_position": null,
            "order": null,
            "overflow": null,
            "overflow_x": null,
            "overflow_y": null,
            "padding": null,
            "right": null,
            "top": null,
            "visibility": null,
            "width": null
          }
        },
        "b20800c419d344739c6f628ffc6efff1": {
          "model_module": "@jupyter-widgets/controls",
          "model_name": "DescriptionStyleModel",
          "model_module_version": "1.5.0",
          "state": {
            "_model_module": "@jupyter-widgets/controls",
            "_model_module_version": "1.5.0",
            "_model_name": "DescriptionStyleModel",
            "_view_count": null,
            "_view_module": "@jupyter-widgets/base",
            "_view_module_version": "1.2.0",
            "_view_name": "StyleView",
            "description_width": ""
          }
        },
        "ce6c8bd0125c49c292ca4747c3b618e3": {
          "model_module": "@jupyter-widgets/base",
          "model_name": "LayoutModel",
          "model_module_version": "1.2.0",
          "state": {
            "_model_module": "@jupyter-widgets/base",
            "_model_module_version": "1.2.0",
            "_model_name": "LayoutModel",
            "_view_count": null,
            "_view_module": "@jupyter-widgets/base",
            "_view_module_version": "1.2.0",
            "_view_name": "LayoutView",
            "align_content": null,
            "align_items": null,
            "align_self": null,
            "border": null,
            "bottom": null,
            "display": null,
            "flex": null,
            "flex_flow": null,
            "grid_area": null,
            "grid_auto_columns": null,
            "grid_auto_flow": null,
            "grid_auto_rows": null,
            "grid_column": null,
            "grid_gap": null,
            "grid_row": null,
            "grid_template_areas": null,
            "grid_template_columns": null,
            "grid_template_rows": null,
            "height": null,
            "justify_content": null,
            "justify_items": null,
            "left": null,
            "margin": null,
            "max_height": null,
            "max_width": null,
            "min_height": null,
            "min_width": null,
            "object_fit": null,
            "object_position": null,
            "order": null,
            "overflow": null,
            "overflow_x": null,
            "overflow_y": null,
            "padding": null,
            "right": null,
            "top": null,
            "visibility": null,
            "width": null
          }
        },
        "d20a42baf242454783bee3dd52c00f12": {
          "model_module": "@jupyter-widgets/controls",
          "model_name": "ProgressStyleModel",
          "model_module_version": "1.5.0",
          "state": {
            "_model_module": "@jupyter-widgets/controls",
            "_model_module_version": "1.5.0",
            "_model_name": "ProgressStyleModel",
            "_view_count": null,
            "_view_module": "@jupyter-widgets/base",
            "_view_module_version": "1.2.0",
            "_view_name": "StyleView",
            "bar_color": null,
            "description_width": ""
          }
        },
        "850106ba4a6c49269f1d0fa98b67e97d": {
          "model_module": "@jupyter-widgets/base",
          "model_name": "LayoutModel",
          "model_module_version": "1.2.0",
          "state": {
            "_model_module": "@jupyter-widgets/base",
            "_model_module_version": "1.2.0",
            "_model_name": "LayoutModel",
            "_view_count": null,
            "_view_module": "@jupyter-widgets/base",
            "_view_module_version": "1.2.0",
            "_view_name": "LayoutView",
            "align_content": null,
            "align_items": null,
            "align_self": null,
            "border": null,
            "bottom": null,
            "display": null,
            "flex": null,
            "flex_flow": null,
            "grid_area": null,
            "grid_auto_columns": null,
            "grid_auto_flow": null,
            "grid_auto_rows": null,
            "grid_column": null,
            "grid_gap": null,
            "grid_row": null,
            "grid_template_areas": null,
            "grid_template_columns": null,
            "grid_template_rows": null,
            "height": null,
            "justify_content": null,
            "justify_items": null,
            "left": null,
            "margin": null,
            "max_height": null,
            "max_width": null,
            "min_height": null,
            "min_width": null,
            "object_fit": null,
            "object_position": null,
            "order": null,
            "overflow": null,
            "overflow_x": null,
            "overflow_y": null,
            "padding": null,
            "right": null,
            "top": null,
            "visibility": null,
            "width": null
          }
        },
        "7c44fb14c17e4923b00dd67b62e716ec": {
          "model_module": "@jupyter-widgets/controls",
          "model_name": "DescriptionStyleModel",
          "model_module_version": "1.5.0",
          "state": {
            "_model_module": "@jupyter-widgets/controls",
            "_model_module_version": "1.5.0",
            "_model_name": "DescriptionStyleModel",
            "_view_count": null,
            "_view_module": "@jupyter-widgets/base",
            "_view_module_version": "1.2.0",
            "_view_name": "StyleView",
            "description_width": ""
          }
        },
        "fd82b296cf6a4153a2ae32f8571fe323": {
          "model_module": "@jupyter-widgets/controls",
          "model_name": "HBoxModel",
          "model_module_version": "1.5.0",
          "state": {
            "_dom_classes": [],
            "_model_module": "@jupyter-widgets/controls",
            "_model_module_version": "1.5.0",
            "_model_name": "HBoxModel",
            "_view_count": null,
            "_view_module": "@jupyter-widgets/controls",
            "_view_module_version": "1.5.0",
            "_view_name": "HBoxView",
            "box_style": "",
            "children": [
              "IPY_MODEL_742da4de9f104cd8ae734f3d9a36971e",
              "IPY_MODEL_c8bc9479fd23430589d5523840849100",
              "IPY_MODEL_c5853f928c7448ce986f4fc1e4f198ce"
            ],
            "layout": "IPY_MODEL_be767eb14ecd4850be08eb5bceb1e999"
          }
        },
        "742da4de9f104cd8ae734f3d9a36971e": {
          "model_module": "@jupyter-widgets/controls",
          "model_name": "HTMLModel",
          "model_module_version": "1.5.0",
          "state": {
            "_dom_classes": [],
            "_model_module": "@jupyter-widgets/controls",
            "_model_module_version": "1.5.0",
            "_model_name": "HTMLModel",
            "_view_count": null,
            "_view_module": "@jupyter-widgets/controls",
            "_view_module_version": "1.5.0",
            "_view_name": "HTMLView",
            "description": "",
            "description_tooltip": null,
            "layout": "IPY_MODEL_e4ff8f409ae549a0977cbe5af5f2013c",
            "placeholder": "​",
            "style": "IPY_MODEL_2c17895101a8408fb939cb0c6210aa2d",
            "value": "100%"
          }
        },
        "c8bc9479fd23430589d5523840849100": {
          "model_module": "@jupyter-widgets/controls",
          "model_name": "FloatProgressModel",
          "model_module_version": "1.5.0",
          "state": {
            "_dom_classes": [],
            "_model_module": "@jupyter-widgets/controls",
            "_model_module_version": "1.5.0",
            "_model_name": "FloatProgressModel",
            "_view_count": null,
            "_view_module": "@jupyter-widgets/controls",
            "_view_module_version": "1.5.0",
            "_view_name": "ProgressView",
            "bar_style": "success",
            "description": "",
            "description_tooltip": null,
            "layout": "IPY_MODEL_b30d8dcb5a384a7eb1eda68b043b2abd",
            "max": 90985,
            "min": 0,
            "orientation": "horizontal",
            "style": "IPY_MODEL_6c4965d6a9144a698ee31d1862605037",
            "value": 90985
          }
        },
        "c5853f928c7448ce986f4fc1e4f198ce": {
          "model_module": "@jupyter-widgets/controls",
          "model_name": "HTMLModel",
          "model_module_version": "1.5.0",
          "state": {
            "_dom_classes": [],
            "_model_module": "@jupyter-widgets/controls",
            "_model_module_version": "1.5.0",
            "_model_name": "HTMLModel",
            "_view_count": null,
            "_view_module": "@jupyter-widgets/controls",
            "_view_module_version": "1.5.0",
            "_view_name": "HTMLView",
            "description": "",
            "description_tooltip": null,
            "layout": "IPY_MODEL_f65dc9329cf84626a98f8dcc3104084e",
            "placeholder": "​",
            "style": "IPY_MODEL_89e49b9d988a4bbd9d0aadae032aa2ee",
            "value": " 90985/90985 [00:20&lt;00:00, 6773.06it/s]"
          }
        },
        "be767eb14ecd4850be08eb5bceb1e999": {
          "model_module": "@jupyter-widgets/base",
          "model_name": "LayoutModel",
          "model_module_version": "1.2.0",
          "state": {
            "_model_module": "@jupyter-widgets/base",
            "_model_module_version": "1.2.0",
            "_model_name": "LayoutModel",
            "_view_count": null,
            "_view_module": "@jupyter-widgets/base",
            "_view_module_version": "1.2.0",
            "_view_name": "LayoutView",
            "align_content": null,
            "align_items": null,
            "align_self": null,
            "border": null,
            "bottom": null,
            "display": null,
            "flex": null,
            "flex_flow": null,
            "grid_area": null,
            "grid_auto_columns": null,
            "grid_auto_flow": null,
            "grid_auto_rows": null,
            "grid_column": null,
            "grid_gap": null,
            "grid_row": null,
            "grid_template_areas": null,
            "grid_template_columns": null,
            "grid_template_rows": null,
            "height": null,
            "justify_content": null,
            "justify_items": null,
            "left": null,
            "margin": null,
            "max_height": null,
            "max_width": null,
            "min_height": null,
            "min_width": null,
            "object_fit": null,
            "object_position": null,
            "order": null,
            "overflow": null,
            "overflow_x": null,
            "overflow_y": null,
            "padding": null,
            "right": null,
            "top": null,
            "visibility": null,
            "width": null
          }
        },
        "e4ff8f409ae549a0977cbe5af5f2013c": {
          "model_module": "@jupyter-widgets/base",
          "model_name": "LayoutModel",
          "model_module_version": "1.2.0",
          "state": {
            "_model_module": "@jupyter-widgets/base",
            "_model_module_version": "1.2.0",
            "_model_name": "LayoutModel",
            "_view_count": null,
            "_view_module": "@jupyter-widgets/base",
            "_view_module_version": "1.2.0",
            "_view_name": "LayoutView",
            "align_content": null,
            "align_items": null,
            "align_self": null,
            "border": null,
            "bottom": null,
            "display": null,
            "flex": null,
            "flex_flow": null,
            "grid_area": null,
            "grid_auto_columns": null,
            "grid_auto_flow": null,
            "grid_auto_rows": null,
            "grid_column": null,
            "grid_gap": null,
            "grid_row": null,
            "grid_template_areas": null,
            "grid_template_columns": null,
            "grid_template_rows": null,
            "height": null,
            "justify_content": null,
            "justify_items": null,
            "left": null,
            "margin": null,
            "max_height": null,
            "max_width": null,
            "min_height": null,
            "min_width": null,
            "object_fit": null,
            "object_position": null,
            "order": null,
            "overflow": null,
            "overflow_x": null,
            "overflow_y": null,
            "padding": null,
            "right": null,
            "top": null,
            "visibility": null,
            "width": null
          }
        },
        "2c17895101a8408fb939cb0c6210aa2d": {
          "model_module": "@jupyter-widgets/controls",
          "model_name": "DescriptionStyleModel",
          "model_module_version": "1.5.0",
          "state": {
            "_model_module": "@jupyter-widgets/controls",
            "_model_module_version": "1.5.0",
            "_model_name": "DescriptionStyleModel",
            "_view_count": null,
            "_view_module": "@jupyter-widgets/base",
            "_view_module_version": "1.2.0",
            "_view_name": "StyleView",
            "description_width": ""
          }
        },
        "b30d8dcb5a384a7eb1eda68b043b2abd": {
          "model_module": "@jupyter-widgets/base",
          "model_name": "LayoutModel",
          "model_module_version": "1.2.0",
          "state": {
            "_model_module": "@jupyter-widgets/base",
            "_model_module_version": "1.2.0",
            "_model_name": "LayoutModel",
            "_view_count": null,
            "_view_module": "@jupyter-widgets/base",
            "_view_module_version": "1.2.0",
            "_view_name": "LayoutView",
            "align_content": null,
            "align_items": null,
            "align_self": null,
            "border": null,
            "bottom": null,
            "display": null,
            "flex": null,
            "flex_flow": null,
            "grid_area": null,
            "grid_auto_columns": null,
            "grid_auto_flow": null,
            "grid_auto_rows": null,
            "grid_column": null,
            "grid_gap": null,
            "grid_row": null,
            "grid_template_areas": null,
            "grid_template_columns": null,
            "grid_template_rows": null,
            "height": null,
            "justify_content": null,
            "justify_items": null,
            "left": null,
            "margin": null,
            "max_height": null,
            "max_width": null,
            "min_height": null,
            "min_width": null,
            "object_fit": null,
            "object_position": null,
            "order": null,
            "overflow": null,
            "overflow_x": null,
            "overflow_y": null,
            "padding": null,
            "right": null,
            "top": null,
            "visibility": null,
            "width": null
          }
        },
        "6c4965d6a9144a698ee31d1862605037": {
          "model_module": "@jupyter-widgets/controls",
          "model_name": "ProgressStyleModel",
          "model_module_version": "1.5.0",
          "state": {
            "_model_module": "@jupyter-widgets/controls",
            "_model_module_version": "1.5.0",
            "_model_name": "ProgressStyleModel",
            "_view_count": null,
            "_view_module": "@jupyter-widgets/base",
            "_view_module_version": "1.2.0",
            "_view_name": "StyleView",
            "bar_color": null,
            "description_width": ""
          }
        },
        "f65dc9329cf84626a98f8dcc3104084e": {
          "model_module": "@jupyter-widgets/base",
          "model_name": "LayoutModel",
          "model_module_version": "1.2.0",
          "state": {
            "_model_module": "@jupyter-widgets/base",
            "_model_module_version": "1.2.0",
            "_model_name": "LayoutModel",
            "_view_count": null,
            "_view_module": "@jupyter-widgets/base",
            "_view_module_version": "1.2.0",
            "_view_name": "LayoutView",
            "align_content": null,
            "align_items": null,
            "align_self": null,
            "border": null,
            "bottom": null,
            "display": null,
            "flex": null,
            "flex_flow": null,
            "grid_area": null,
            "grid_auto_columns": null,
            "grid_auto_flow": null,
            "grid_auto_rows": null,
            "grid_column": null,
            "grid_gap": null,
            "grid_row": null,
            "grid_template_areas": null,
            "grid_template_columns": null,
            "grid_template_rows": null,
            "height": null,
            "justify_content": null,
            "justify_items": null,
            "left": null,
            "margin": null,
            "max_height": null,
            "max_width": null,
            "min_height": null,
            "min_width": null,
            "object_fit": null,
            "object_position": null,
            "order": null,
            "overflow": null,
            "overflow_x": null,
            "overflow_y": null,
            "padding": null,
            "right": null,
            "top": null,
            "visibility": null,
            "width": null
          }
        },
        "89e49b9d988a4bbd9d0aadae032aa2ee": {
          "model_module": "@jupyter-widgets/controls",
          "model_name": "DescriptionStyleModel",
          "model_module_version": "1.5.0",
          "state": {
            "_model_module": "@jupyter-widgets/controls",
            "_model_module_version": "1.5.0",
            "_model_name": "DescriptionStyleModel",
            "_view_count": null,
            "_view_module": "@jupyter-widgets/base",
            "_view_module_version": "1.2.0",
            "_view_name": "StyleView",
            "description_width": ""
          }
        }
      }
    }
  },
  "cells": [
    {
      "cell_type": "markdown",
      "metadata": {
        "id": "view-in-github",
        "colab_type": "text"
      },
      "source": [
        "<a href=\"https://colab.research.google.com/github/SicilianoBartolomeo/Sistemi-ad-agenti/blob/main/smartFallLstm.ipynb\" target=\"_parent\"><img src=\"https://colab.research.google.com/assets/colab-badge.svg\" alt=\"Open In Colab\"/></a>"
      ]
    },
    {
      "cell_type": "code",
      "source": [
        "import matplotlib.pyplot as plt\n",
        "import numpy as np\n",
        "import pandas as pd\n",
        "import tqdm\n",
        "import collections \n",
        "import time\n",
        "%matplotlib inline\n",
        "\n",
        "from sklearn.model_selection import train_test_split\n",
        "from sklearn.preprocessing import LabelEncoder\n",
        "\n",
        "import torch\n",
        "from torch import nn\n",
        "from torch.nn import functional as F\n",
        "from torch.utils.data import TensorDataset, DataLoader\n",
        "from torch.optim.lr_scheduler import _LRScheduler"
      ],
      "metadata": {
        "id": "nzCAmKIR3aUw"
      },
      "execution_count": 1,
      "outputs": []
    },
    {
      "cell_type": "code",
      "source": [
        "np.random.seed(42)\n",
        "device = 'cuda:0' if torch.cuda.is_available() else 'cpu'\n",
        "device"
      ],
      "metadata": {
        "colab": {
          "base_uri": "https://localhost:8080/",
          "height": 35
        },
        "id": "ySP8rEau3dSK",
        "outputId": "b8b836fd-0bc5-49c5-8289-1169e1be6a89"
      },
      "execution_count": 2,
      "outputs": [
        {
          "output_type": "execute_result",
          "data": {
            "text/plain": [
              "'cuda:0'"
            ],
            "application/vnd.google.colaboratory.intrinsic+json": {
              "type": "string"
            }
          },
          "metadata": {},
          "execution_count": 2
        }
      ]
    },
    {
      "cell_type": "code",
      "execution_count": 3,
      "metadata": {
        "colab": {
          "base_uri": "https://localhost:8080/"
        },
        "id": "XW1g2c1n2d8l",
        "outputId": "0654b7fa-4cf0-4c04-af78-bb2d25421e19"
      },
      "outputs": [
        {
          "output_type": "stream",
          "name": "stdout",
          "text": [
            "Mounted at /content/gdrive/\n"
          ]
        }
      ],
      "source": [
        "from google.colab import drive\n",
        "\n",
        "drive.mount('/content/gdrive/', force_remount=True)"
      ]
    },
    {
      "cell_type": "code",
      "source": [
        "train = pd.read_csv('/content/gdrive/MyDrive/Resources/SmartFall Training.csv')\n",
        "test = pd.read_csv('/content/gdrive/MyDrive/Resources/SmartFall Testing.csv')"
      ],
      "metadata": {
        "id": "_9otpKAh707U"
      },
      "execution_count": 4,
      "outputs": []
    },
    {
      "cell_type": "code",
      "source": [
        "train.describe()"
      ],
      "metadata": {
        "colab": {
          "base_uri": "https://localhost:8080/",
          "height": 300
        },
        "id": "tcudttcsWw3R",
        "outputId": "234e5cb1-50f0-4068-d61d-72e141645222"
      },
      "execution_count": 5,
      "outputs": [
        {
          "output_type": "execute_result",
          "data": {
            "text/plain": [
              "        ms_accelerometer_x   ms_accelerometer_y   ms_accelerometer_z  \\\n",
              "count         92781.000000         92781.000000         92781.000000   \n",
              "mean              0.639959             0.310679             0.236852   \n",
              "std               0.672809             0.596056             0.550076   \n",
              "min              -5.644532            -7.995117            -8.000000   \n",
              "25%               0.354980             0.066895            -0.015625   \n",
              "50%               0.796875             0.266357             0.236572   \n",
              "75%               0.968750             0.528320             0.476563   \n",
              "max               7.999023             7.999023             7.978760   \n",
              "\n",
              "            outcome  \n",
              "count  92781.000000  \n",
              "mean       0.088111  \n",
              "std        0.283457  \n",
              "min        0.000000  \n",
              "25%        0.000000  \n",
              "50%        0.000000  \n",
              "75%        0.000000  \n",
              "max        1.000000  "
            ],
            "text/html": [
              "\n",
              "  <div id=\"df-dded02ba-7777-4dd6-a1e8-7b2a723b2f4e\">\n",
              "    <div class=\"colab-df-container\">\n",
              "      <div>\n",
              "<style scoped>\n",
              "    .dataframe tbody tr th:only-of-type {\n",
              "        vertical-align: middle;\n",
              "    }\n",
              "\n",
              "    .dataframe tbody tr th {\n",
              "        vertical-align: top;\n",
              "    }\n",
              "\n",
              "    .dataframe thead th {\n",
              "        text-align: right;\n",
              "    }\n",
              "</style>\n",
              "<table border=\"1\" class=\"dataframe\">\n",
              "  <thead>\n",
              "    <tr style=\"text-align: right;\">\n",
              "      <th></th>\n",
              "      <th>ms_accelerometer_x</th>\n",
              "      <th>ms_accelerometer_y</th>\n",
              "      <th>ms_accelerometer_z</th>\n",
              "      <th>outcome</th>\n",
              "    </tr>\n",
              "  </thead>\n",
              "  <tbody>\n",
              "    <tr>\n",
              "      <th>count</th>\n",
              "      <td>92781.000000</td>\n",
              "      <td>92781.000000</td>\n",
              "      <td>92781.000000</td>\n",
              "      <td>92781.000000</td>\n",
              "    </tr>\n",
              "    <tr>\n",
              "      <th>mean</th>\n",
              "      <td>0.639959</td>\n",
              "      <td>0.310679</td>\n",
              "      <td>0.236852</td>\n",
              "      <td>0.088111</td>\n",
              "    </tr>\n",
              "    <tr>\n",
              "      <th>std</th>\n",
              "      <td>0.672809</td>\n",
              "      <td>0.596056</td>\n",
              "      <td>0.550076</td>\n",
              "      <td>0.283457</td>\n",
              "    </tr>\n",
              "    <tr>\n",
              "      <th>min</th>\n",
              "      <td>-5.644532</td>\n",
              "      <td>-7.995117</td>\n",
              "      <td>-8.000000</td>\n",
              "      <td>0.000000</td>\n",
              "    </tr>\n",
              "    <tr>\n",
              "      <th>25%</th>\n",
              "      <td>0.354980</td>\n",
              "      <td>0.066895</td>\n",
              "      <td>-0.015625</td>\n",
              "      <td>0.000000</td>\n",
              "    </tr>\n",
              "    <tr>\n",
              "      <th>50%</th>\n",
              "      <td>0.796875</td>\n",
              "      <td>0.266357</td>\n",
              "      <td>0.236572</td>\n",
              "      <td>0.000000</td>\n",
              "    </tr>\n",
              "    <tr>\n",
              "      <th>75%</th>\n",
              "      <td>0.968750</td>\n",
              "      <td>0.528320</td>\n",
              "      <td>0.476563</td>\n",
              "      <td>0.000000</td>\n",
              "    </tr>\n",
              "    <tr>\n",
              "      <th>max</th>\n",
              "      <td>7.999023</td>\n",
              "      <td>7.999023</td>\n",
              "      <td>7.978760</td>\n",
              "      <td>1.000000</td>\n",
              "    </tr>\n",
              "  </tbody>\n",
              "</table>\n",
              "</div>\n",
              "      <button class=\"colab-df-convert\" onclick=\"convertToInteractive('df-dded02ba-7777-4dd6-a1e8-7b2a723b2f4e')\"\n",
              "              title=\"Convert this dataframe to an interactive table.\"\n",
              "              style=\"display:none;\">\n",
              "        \n",
              "  <svg xmlns=\"http://www.w3.org/2000/svg\" height=\"24px\"viewBox=\"0 0 24 24\"\n",
              "       width=\"24px\">\n",
              "    <path d=\"M0 0h24v24H0V0z\" fill=\"none\"/>\n",
              "    <path d=\"M18.56 5.44l.94 2.06.94-2.06 2.06-.94-2.06-.94-.94-2.06-.94 2.06-2.06.94zm-11 1L8.5 8.5l.94-2.06 2.06-.94-2.06-.94L8.5 2.5l-.94 2.06-2.06.94zm10 10l.94 2.06.94-2.06 2.06-.94-2.06-.94-.94-2.06-.94 2.06-2.06.94z\"/><path d=\"M17.41 7.96l-1.37-1.37c-.4-.4-.92-.59-1.43-.59-.52 0-1.04.2-1.43.59L10.3 9.45l-7.72 7.72c-.78.78-.78 2.05 0 2.83L4 21.41c.39.39.9.59 1.41.59.51 0 1.02-.2 1.41-.59l7.78-7.78 2.81-2.81c.8-.78.8-2.07 0-2.86zM5.41 20L4 18.59l7.72-7.72 1.47 1.35L5.41 20z\"/>\n",
              "  </svg>\n",
              "      </button>\n",
              "      \n",
              "  <style>\n",
              "    .colab-df-container {\n",
              "      display:flex;\n",
              "      flex-wrap:wrap;\n",
              "      gap: 12px;\n",
              "    }\n",
              "\n",
              "    .colab-df-convert {\n",
              "      background-color: #E8F0FE;\n",
              "      border: none;\n",
              "      border-radius: 50%;\n",
              "      cursor: pointer;\n",
              "      display: none;\n",
              "      fill: #1967D2;\n",
              "      height: 32px;\n",
              "      padding: 0 0 0 0;\n",
              "      width: 32px;\n",
              "    }\n",
              "\n",
              "    .colab-df-convert:hover {\n",
              "      background-color: #E2EBFA;\n",
              "      box-shadow: 0px 1px 2px rgba(60, 64, 67, 0.3), 0px 1px 3px 1px rgba(60, 64, 67, 0.15);\n",
              "      fill: #174EA6;\n",
              "    }\n",
              "\n",
              "    [theme=dark] .colab-df-convert {\n",
              "      background-color: #3B4455;\n",
              "      fill: #D2E3FC;\n",
              "    }\n",
              "\n",
              "    [theme=dark] .colab-df-convert:hover {\n",
              "      background-color: #434B5C;\n",
              "      box-shadow: 0px 1px 3px 1px rgba(0, 0, 0, 0.15);\n",
              "      filter: drop-shadow(0px 1px 2px rgba(0, 0, 0, 0.3));\n",
              "      fill: #FFFFFF;\n",
              "    }\n",
              "  </style>\n",
              "\n",
              "      <script>\n",
              "        const buttonEl =\n",
              "          document.querySelector('#df-dded02ba-7777-4dd6-a1e8-7b2a723b2f4e button.colab-df-convert');\n",
              "        buttonEl.style.display =\n",
              "          google.colab.kernel.accessAllowed ? 'block' : 'none';\n",
              "\n",
              "        async function convertToInteractive(key) {\n",
              "          const element = document.querySelector('#df-dded02ba-7777-4dd6-a1e8-7b2a723b2f4e');\n",
              "          const dataTable =\n",
              "            await google.colab.kernel.invokeFunction('convertToInteractive',\n",
              "                                                     [key], {});\n",
              "          if (!dataTable) return;\n",
              "\n",
              "          const docLinkHtml = 'Like what you see? Visit the ' +\n",
              "            '<a target=\"_blank\" href=https://colab.research.google.com/notebooks/data_table.ipynb>data table notebook</a>'\n",
              "            + ' to learn more about interactive tables.';\n",
              "          element.innerHTML = '';\n",
              "          dataTable['output_type'] = 'display_data';\n",
              "          await google.colab.output.renderOutput(dataTable, element);\n",
              "          const docLink = document.createElement('div');\n",
              "          docLink.innerHTML = docLinkHtml;\n",
              "          element.appendChild(docLink);\n",
              "        }\n",
              "      </script>\n",
              "    </div>\n",
              "  </div>\n",
              "  "
            ]
          },
          "metadata": {},
          "execution_count": 5
        }
      ]
    },
    {
      "cell_type": "code",
      "source": [
        "test.describe()"
      ],
      "metadata": {
        "colab": {
          "base_uri": "https://localhost:8080/",
          "height": 300
        },
        "id": "rVQycO4ZW9X3",
        "outputId": "66456942-721a-4426-9522-18cc8861f858"
      },
      "execution_count": null,
      "outputs": [
        {
          "output_type": "execute_result",
          "data": {
            "text/plain": [
              "        ms_accelerometer_x   ms_accelerometer_y   ms_accelerometer_z  \\\n",
              "count         91025.000000         91025.000000         91025.000000   \n",
              "mean              0.559185             0.304663             0.201880   \n",
              "std               0.644098             0.604859             0.491829   \n",
              "min              -7.995117            -7.995117            -8.000000   \n",
              "25%               0.151855             0.082764             0.008057   \n",
              "50%               0.742920             0.335693             0.192139   \n",
              "75%               0.934082             0.595947             0.414795   \n",
              "max               7.999023             7.999023             7.978760   \n",
              "\n",
              "            outcome  \n",
              "count  91025.000000  \n",
              "mean       0.055205  \n",
              "std        0.228380  \n",
              "min        0.000000  \n",
              "25%        0.000000  \n",
              "50%        0.000000  \n",
              "75%        0.000000  \n",
              "max        1.000000  "
            ],
            "text/html": [
              "\n",
              "  <div id=\"df-0e27e189-a633-4277-9e47-eb1d743452a3\">\n",
              "    <div class=\"colab-df-container\">\n",
              "      <div>\n",
              "<style scoped>\n",
              "    .dataframe tbody tr th:only-of-type {\n",
              "        vertical-align: middle;\n",
              "    }\n",
              "\n",
              "    .dataframe tbody tr th {\n",
              "        vertical-align: top;\n",
              "    }\n",
              "\n",
              "    .dataframe thead th {\n",
              "        text-align: right;\n",
              "    }\n",
              "</style>\n",
              "<table border=\"1\" class=\"dataframe\">\n",
              "  <thead>\n",
              "    <tr style=\"text-align: right;\">\n",
              "      <th></th>\n",
              "      <th>ms_accelerometer_x</th>\n",
              "      <th>ms_accelerometer_y</th>\n",
              "      <th>ms_accelerometer_z</th>\n",
              "      <th>outcome</th>\n",
              "    </tr>\n",
              "  </thead>\n",
              "  <tbody>\n",
              "    <tr>\n",
              "      <th>count</th>\n",
              "      <td>91025.000000</td>\n",
              "      <td>91025.000000</td>\n",
              "      <td>91025.000000</td>\n",
              "      <td>91025.000000</td>\n",
              "    </tr>\n",
              "    <tr>\n",
              "      <th>mean</th>\n",
              "      <td>0.559185</td>\n",
              "      <td>0.304663</td>\n",
              "      <td>0.201880</td>\n",
              "      <td>0.055205</td>\n",
              "    </tr>\n",
              "    <tr>\n",
              "      <th>std</th>\n",
              "      <td>0.644098</td>\n",
              "      <td>0.604859</td>\n",
              "      <td>0.491829</td>\n",
              "      <td>0.228380</td>\n",
              "    </tr>\n",
              "    <tr>\n",
              "      <th>min</th>\n",
              "      <td>-7.995117</td>\n",
              "      <td>-7.995117</td>\n",
              "      <td>-8.000000</td>\n",
              "      <td>0.000000</td>\n",
              "    </tr>\n",
              "    <tr>\n",
              "      <th>25%</th>\n",
              "      <td>0.151855</td>\n",
              "      <td>0.082764</td>\n",
              "      <td>0.008057</td>\n",
              "      <td>0.000000</td>\n",
              "    </tr>\n",
              "    <tr>\n",
              "      <th>50%</th>\n",
              "      <td>0.742920</td>\n",
              "      <td>0.335693</td>\n",
              "      <td>0.192139</td>\n",
              "      <td>0.000000</td>\n",
              "    </tr>\n",
              "    <tr>\n",
              "      <th>75%</th>\n",
              "      <td>0.934082</td>\n",
              "      <td>0.595947</td>\n",
              "      <td>0.414795</td>\n",
              "      <td>0.000000</td>\n",
              "    </tr>\n",
              "    <tr>\n",
              "      <th>max</th>\n",
              "      <td>7.999023</td>\n",
              "      <td>7.999023</td>\n",
              "      <td>7.978760</td>\n",
              "      <td>1.000000</td>\n",
              "    </tr>\n",
              "  </tbody>\n",
              "</table>\n",
              "</div>\n",
              "      <button class=\"colab-df-convert\" onclick=\"convertToInteractive('df-0e27e189-a633-4277-9e47-eb1d743452a3')\"\n",
              "              title=\"Convert this dataframe to an interactive table.\"\n",
              "              style=\"display:none;\">\n",
              "        \n",
              "  <svg xmlns=\"http://www.w3.org/2000/svg\" height=\"24px\"viewBox=\"0 0 24 24\"\n",
              "       width=\"24px\">\n",
              "    <path d=\"M0 0h24v24H0V0z\" fill=\"none\"/>\n",
              "    <path d=\"M18.56 5.44l.94 2.06.94-2.06 2.06-.94-2.06-.94-.94-2.06-.94 2.06-2.06.94zm-11 1L8.5 8.5l.94-2.06 2.06-.94-2.06-.94L8.5 2.5l-.94 2.06-2.06.94zm10 10l.94 2.06.94-2.06 2.06-.94-2.06-.94-.94-2.06-.94 2.06-2.06.94z\"/><path d=\"M17.41 7.96l-1.37-1.37c-.4-.4-.92-.59-1.43-.59-.52 0-1.04.2-1.43.59L10.3 9.45l-7.72 7.72c-.78.78-.78 2.05 0 2.83L4 21.41c.39.39.9.59 1.41.59.51 0 1.02-.2 1.41-.59l7.78-7.78 2.81-2.81c.8-.78.8-2.07 0-2.86zM5.41 20L4 18.59l7.72-7.72 1.47 1.35L5.41 20z\"/>\n",
              "  </svg>\n",
              "      </button>\n",
              "      \n",
              "  <style>\n",
              "    .colab-df-container {\n",
              "      display:flex;\n",
              "      flex-wrap:wrap;\n",
              "      gap: 12px;\n",
              "    }\n",
              "\n",
              "    .colab-df-convert {\n",
              "      background-color: #E8F0FE;\n",
              "      border: none;\n",
              "      border-radius: 50%;\n",
              "      cursor: pointer;\n",
              "      display: none;\n",
              "      fill: #1967D2;\n",
              "      height: 32px;\n",
              "      padding: 0 0 0 0;\n",
              "      width: 32px;\n",
              "    }\n",
              "\n",
              "    .colab-df-convert:hover {\n",
              "      background-color: #E2EBFA;\n",
              "      box-shadow: 0px 1px 2px rgba(60, 64, 67, 0.3), 0px 1px 3px 1px rgba(60, 64, 67, 0.15);\n",
              "      fill: #174EA6;\n",
              "    }\n",
              "\n",
              "    [theme=dark] .colab-df-convert {\n",
              "      background-color: #3B4455;\n",
              "      fill: #D2E3FC;\n",
              "    }\n",
              "\n",
              "    [theme=dark] .colab-df-convert:hover {\n",
              "      background-color: #434B5C;\n",
              "      box-shadow: 0px 1px 3px 1px rgba(0, 0, 0, 0.15);\n",
              "      filter: drop-shadow(0px 1px 2px rgba(0, 0, 0, 0.3));\n",
              "      fill: #FFFFFF;\n",
              "    }\n",
              "  </style>\n",
              "\n",
              "      <script>\n",
              "        const buttonEl =\n",
              "          document.querySelector('#df-0e27e189-a633-4277-9e47-eb1d743452a3 button.colab-df-convert');\n",
              "        buttonEl.style.display =\n",
              "          google.colab.kernel.accessAllowed ? 'block' : 'none';\n",
              "\n",
              "        async function convertToInteractive(key) {\n",
              "          const element = document.querySelector('#df-0e27e189-a633-4277-9e47-eb1d743452a3');\n",
              "          const dataTable =\n",
              "            await google.colab.kernel.invokeFunction('convertToInteractive',\n",
              "                                                     [key], {});\n",
              "          if (!dataTable) return;\n",
              "\n",
              "          const docLinkHtml = 'Like what you see? Visit the ' +\n",
              "            '<a target=\"_blank\" href=https://colab.research.google.com/notebooks/data_table.ipynb>data table notebook</a>'\n",
              "            + ' to learn more about interactive tables.';\n",
              "          element.innerHTML = '';\n",
              "          dataTable['output_type'] = 'display_data';\n",
              "          await google.colab.output.renderOutput(dataTable, element);\n",
              "          const docLink = document.createElement('div');\n",
              "          docLink.innerHTML = docLinkHtml;\n",
              "          element.appendChild(docLink);\n",
              "        }\n",
              "      </script>\n",
              "    </div>\n",
              "  </div>\n",
              "  "
            ]
          },
          "metadata": {},
          "execution_count": 6
        }
      ]
    },
    {
      "cell_type": "code",
      "source": [
        "plt.figure(figsize = (15, 6))\n",
        "plt.title('Accellerometer data', fontsize = 15)\n",
        "plt.xlabel('timestamp')\n",
        "plt.ylabel('3d accelleration')\n",
        "plt.plot(train[' ms_accelerometer_x'][300:500] ,label = 'acc_x')\n",
        "plt.plot(train[' ms_accelerometer_y'][300:500] ,label = 'acc_y')\n",
        "plt.plot(train[' ms_accelerometer_z'][300:500] ,label = 'acc_z')\n",
        "plt.legend()\n",
        "plt.show()"
      ],
      "metadata": {
        "colab": {
          "base_uri": "https://localhost:8080/",
          "height": 406
        },
        "id": "nBip5LLiy32C",
        "outputId": "25c17965-1727-45b8-a780-6474445c4156"
      },
      "execution_count": null,
      "outputs": [
        {
          "output_type": "display_data",
          "data": {
            "text/plain": [
              "<Figure size 1080x432 with 1 Axes>"
            ],
            "image/png": "[encoded data removed]"
          },
          "metadata": {
            "needs_background": "light"
          }
        }
      ]
    },
    {
      "cell_type": "code",
      "source": [
        "plt.figure(figsize = (15, 6))\n",
        "plt.title('Label', fontsize = 15)\n",
        "plt.xlabel('timestamp')\n",
        "plt.ylabel('activity')\n",
        "plt.plot(train['outcome'][300:500], color = 'r' ,label = '1:fall 0:adl')\n",
        "plt.legend()\n",
        "plt.show()"
      ],
      "metadata": {
        "colab": {
          "base_uri": "https://localhost:8080/",
          "height": 406
        },
        "id": "7uvSQ7Es0oWg",
        "outputId": "646b66e4-2497-4b43-e4d7-f0ac6b13f098"
      },
      "execution_count": null,
      "outputs": [
        {
          "output_type": "display_data",
          "data": {
            "text/plain": [
              "<Figure size 1080x432 with 1 Axes>"
            ],
            "image/png": "[encoded data removed]"
          },
          "metadata": {
            "needs_background": "light"
          }
        }
      ]
    },
    {
      "cell_type": "code",
      "source": [
        "n = 40\n",
        "X_train, y_train = list(), list()\n",
        "\n",
        "for i in tqdm.notebook.tqdm(range(0, len(train)-40)):\n",
        "    temp = list()\n",
        "    \n",
        "    temp.append(train[' ms_accelerometer_x'][i : i + n])\n",
        "    temp.append(train[' ms_accelerometer_y'][i : i + n])\n",
        "    temp.append(train[' ms_accelerometer_z'][i : i + n])\n",
        "    \n",
        "    cnt = collections.Counter(train['outcome'][i: i + n])\n",
        "    num_adl = cnt[0]\n",
        "    num_fall = cnt[1]\n",
        "    \n",
        "    if num_fall == 25:\n",
        "        y_train.append(1)\n",
        "    else:\n",
        "        y_train.append(0)\n",
        "    \n",
        "    X_train.append(temp)"
      ],
      "metadata": {
        "colab": {
          "base_uri": "https://localhost:8080/",
          "height": 49,
          "referenced_widgets": [
            "66725596184249c0b4bc1ddb2daa29c6",
            "d4f4edecc69348838db608bb46fed10f",
            "93c2ff3d9f2e40559c7f51020125777e",
            "665bb207b1b24caa952da82bc4daf8a5",
            "967d7405476e4c59aeb0efbbac59d45e",
            "a41d881c42c94e2893b752e6afe1b3e5",
            "b20800c419d344739c6f628ffc6efff1",
            "ce6c8bd0125c49c292ca4747c3b618e3",
            "d20a42baf242454783bee3dd52c00f12",
            "850106ba4a6c49269f1d0fa98b67e97d",
            "7c44fb14c17e4923b00dd67b62e716ec"
          ]
        },
        "id": "61yYBCt_4LTS",
        "outputId": "302d8d86-24ac-4981-9b08-00d5803327b4"
      },
      "execution_count": null,
      "outputs": [
        {
          "output_type": "display_data",
          "data": {
            "text/plain": [
              "  0%|          | 0/92741 [00:00<?, ?it/s]"
            ],
            "application/vnd.jupyter.widget-view+json": {
              "version_major": 2,
              "version_minor": 0,
              "model_id": "66725596184249c0b4bc1ddb2daa29c6"
            }
          },
          "metadata": {}
        }
      ]
    },
    {
      "cell_type": "code",
      "source": [
        "n = 40\n",
        "X_test_adl, X_test_fall, y_test_adl, y_test_fall = list(), list(), list(), list()\n",
        "for i in tqdm.notebook.tqdm(range(0, len(test) - 40)):\n",
        "    temp = list()\n",
        "    \n",
        "    temp.append(test[' ms_accelerometer_x'][i : i + n])\n",
        "    temp.append(test[' ms_accelerometer_y'][i : i + n])\n",
        "    temp.append(test[' ms_accelerometer_z'][i : i + n])\n",
        "    \n",
        "    cnt = collections.Counter(test['outcome'][i : i + n])\n",
        "    num_adl = cnt[0]\n",
        "    num_fall = cnt[1]\n",
        "    \n",
        "    if num_fall == 25:\n",
        "        y_test_fall.append(1)\n",
        "        X_test_fall.append(temp)\n",
        "    else:\n",
        "        y_test_adl.append(0)\n",
        "        X_test_adl.append(temp)"
      ],
      "metadata": {
        "colab": {
          "base_uri": "https://localhost:8080/",
          "height": 49,
          "referenced_widgets": [
            "fd82b296cf6a4153a2ae32f8571fe323",
            "742da4de9f104cd8ae734f3d9a36971e",
            "c8bc9479fd23430589d5523840849100",
            "c5853f928c7448ce986f4fc1e4f198ce",
            "be767eb14ecd4850be08eb5bceb1e999",
            "e4ff8f409ae549a0977cbe5af5f2013c",
            "2c17895101a8408fb939cb0c6210aa2d",
            "b30d8dcb5a384a7eb1eda68b043b2abd",
            "6c4965d6a9144a698ee31d1862605037",
            "f65dc9329cf84626a98f8dcc3104084e",
            "89e49b9d988a4bbd9d0aadae032aa2ee"
          ]
        },
        "id": "kshKFMXP4S2D",
        "outputId": "65889f83-8007-4476-adab-f9fb01eb5555"
      },
      "execution_count": null,
      "outputs": [
        {
          "output_type": "display_data",
          "data": {
            "text/plain": [
              "  0%|          | 0/90985 [00:00<?, ?it/s]"
            ],
            "application/vnd.jupyter.widget-view+json": {
              "version_major": 2,
              "version_minor": 0,
              "model_id": "fd82b296cf6a4153a2ae32f8571fe323"
            }
          },
          "metadata": {}
        }
      ]
    },
    {
      "cell_type": "code",
      "source": [
        "print(len(y_test_fall))\n",
        "print(len(y_test_adl))"
      ],
      "metadata": {
        "colab": {
          "base_uri": "https://localhost:8080/"
        },
        "id": "Q-anK8794XXa",
        "outputId": "38bd603b-0d74-4fbd-dbef-6b1681520e17"
      },
      "execution_count": null,
      "outputs": [
        {
          "output_type": "stream",
          "name": "stdout",
          "text": [
            "3216\n",
            "87769\n"
          ]
        }
      ]
    },
    {
      "cell_type": "code",
      "source": [
        "# to keep the balance between ADL and FALL data, used only part of ADL data\n",
        "\n",
        "X_test_adl = X_test_adl[:3216]\n",
        "y_test_adl = y_test_adl[:3216]\n",
        "\n",
        "y_test = y_test_adl + y_test_fall\n",
        "X_test = X_test_adl + X_test_fall"
      ],
      "metadata": {
        "id": "Gj-UIXJL4cRJ"
      },
      "execution_count": null,
      "outputs": []
    },
    {
      "cell_type": "code",
      "source": [
        "print('length of test data', len(X_test))"
      ],
      "metadata": {
        "colab": {
          "base_uri": "https://localhost:8080/"
        },
        "id": "W1_SZWFN4fXS",
        "outputId": "a95e83a1-bf36-4aba-ba0a-66a04ac7e8bf"
      },
      "execution_count": null,
      "outputs": [
        {
          "output_type": "stream",
          "name": "stdout",
          "text": [
            "length of test data 6432\n"
          ]
        }
      ]
    },
    {
      "cell_type": "code",
      "source": [
        "print('train data adl and fall ratio')\n",
        "print('--------------------------------')\n",
        "cnt_train = collections.Counter(y_train)\n",
        "print('train data adl ratio: ', cnt_train[0])\n",
        "print('train data fall ratio: ', cnt_train[1])\n",
        "print('--------------------------------')\n",
        "\n",
        "cnt_test = collections.Counter(y_test)\n",
        "print('test data adl ratio: ', cnt_test[0])\n",
        "print('test data fall ratio: ', cnt_test[1])"
      ],
      "metadata": {
        "colab": {
          "base_uri": "https://localhost:8080/"
        },
        "id": "P-0TgeF24jbx",
        "outputId": "3e3fac84-966d-452a-fd23-30f867ae48c4"
      },
      "execution_count": null,
      "outputs": [
        {
          "output_type": "stream",
          "name": "stdout",
          "text": [
            "train data adl and fall ratio\n",
            "--------------------------------\n",
            "train data adl ratio:  87509\n",
            "train data fall ratio:  5232\n",
            "--------------------------------\n",
            "test data adl ratio:  3216\n",
            "test data fall ratio:  3216\n"
          ]
        }
      ]
    },
    {
      "cell_type": "code",
      "source": [
        "class CyclicLR(_LRScheduler):\n",
        "    \n",
        "    def __init__(self, optimizer, schedule, last_epoch=-1):\n",
        "        assert callable(schedule)\n",
        "        self.schedule = schedule\n",
        "        super().__init__(optimizer, last_epoch)\n",
        "\n",
        "    def get_lr(self):\n",
        "        return [self.schedule(self.last_epoch, lr) for lr in self.base_lrs]"
      ],
      "metadata": {
        "id": "8yUmnJWS4o1y"
      },
      "execution_count": null,
      "outputs": []
    },
    {
      "cell_type": "code",
      "source": [
        "def cosine(t_max, eta_min=0):\n",
        "    \n",
        "    def scheduler(epoch, base_lr):\n",
        "        t = epoch % t_max\n",
        "        return eta_min + (base_lr - eta_min)*(1 + np.cos(np.pi*t/t_max))/2\n",
        "    \n",
        "    return scheduler"
      ],
      "metadata": {
        "id": "z8w5MCQd4rOE"
      },
      "execution_count": null,
      "outputs": []
    },
    {
      "cell_type": "code",
      "source": [
        "n = 100\n",
        "sched = cosine(n)\n",
        "lrs = [sched(t, 1) for t in range(n * 4)]\n",
        "plt.plot(lrs)"
      ],
      "metadata": {
        "colab": {
          "base_uri": "https://localhost:8080/",
          "height": 282
        },
        "id": "9ypoXRCC4t6Y",
        "outputId": "ddf45542-357a-43b8-c79b-7fb40ee44e5d"
      },
      "execution_count": null,
      "outputs": [
        {
          "output_type": "execute_result",
          "data": {
            "text/plain": [
              "[<matplotlib.lines.Line2D at 0x7f6ffc723be0>]"
            ]
          },
          "metadata": {},
          "execution_count": 13
        },
        {
          "output_type": "display_data",
          "data": {
            "text/plain": [
              "<Figure size 432x288 with 1 Axes>"
            ],
            "image/png": "[encoded data removed]"
          },
          "metadata": {
            "needs_background": "light"
          }
        }
      ]
    },
    {
      "cell_type": "code",
      "source": [
        "class LSTMNet(nn.Module):\n",
        "    def __init__(self, input_dim, hidden_dim, n_layers, output_dim):\n",
        "        super(LSTMNet, self).__init__()\n",
        "        self.hidden_dim = hidden_dim\n",
        "        self.n_layers = n_layers\n",
        "        \n",
        "        self.lstm = nn.LSTM(input_dim, hidden_dim, n_layers, batch_first=True)\n",
        "        self.fc = nn.Linear(hidden_dim, output_dim)\n",
        "        self.relu = nn.ReLU()\n",
        "        \n",
        "    def forward(self, x):\n",
        "        h0, c0 = self.init_hidden(x)\n",
        "        out, (hn, cn) = self.lstm(x, (h0, c0))\n",
        "        out = self.fc(self.relu(out[:, -1]))\n",
        "        return out\n",
        "    \n",
        "    def init_hidden(self, x):\n",
        "        h0 = torch.zeros(self.n_layers, x.size(0), self.hidden_dim)\n",
        "        c0 = torch.zeros(self.n_layers, x.size(0), self.hidden_dim)\n",
        "        return [t.cuda() for t in (h0, c0)]"
      ],
      "metadata": {
        "id": "IykbGBbs4xrz"
      },
      "execution_count": null,
      "outputs": []
    },
    {
      "cell_type": "code",
      "source": [
        "X_train = np.asarray(X_train).reshape(-1, 40, 3)\n",
        "y_train = np.asarray(y_train).reshape(-1, )\n",
        "\n",
        "X_test = np.asarray(X_test).reshape(-1, 40, 3)\n",
        "y_test = np.asarray(y_test).reshape(-1, )"
      ],
      "metadata": {
        "id": "fUy7dYfE40ZO"
      },
      "execution_count": null,
      "outputs": []
    },
    {
      "cell_type": "code",
      "source": [
        "from sklearn.preprocessing import LabelEncoder\n",
        "enc = LabelEncoder()\n",
        "\n",
        "y_train = enc.fit_transform(y_train)\n",
        "y_test = enc.fit_transform(y_test)"
      ],
      "metadata": {
        "id": "iEwNJJsg43mS"
      },
      "execution_count": null,
      "outputs": []
    },
    {
      "cell_type": "code",
      "source": [
        "X_train, X_valid, y_train, y_valid = train_test_split(X_train, y_train, test_size=0.1)"
      ],
      "metadata": {
        "id": "szf-gpkZ46IV"
      },
      "execution_count": null,
      "outputs": []
    },
    {
      "cell_type": "code",
      "source": [
        "batch_size = 128\n",
        "\n",
        "train_data = TensorDataset(torch.from_numpy(X_train), torch.from_numpy(y_train))\n",
        "train_loader = torch.utils.data.DataLoader(\n",
        "    train_data,\n",
        "    shuffle=True, batch_size=batch_size)\n",
        "\n",
        "valid_data = TensorDataset(torch.from_numpy(X_valid), torch.from_numpy(y_valid))\n",
        "valid_loader = torch.utils.data.DataLoader(\n",
        "    valid_data,\n",
        "    shuffle=True, batch_size=batch_size)\n",
        "\n",
        "test_data =TensorDataset(torch.from_numpy(X_test), torch.from_numpy(y_test))\n",
        "test_loader = torch.utils.data.DataLoader(\n",
        "    test_data,\n",
        "    shuffle=True, batch_size=batch_size)"
      ],
      "metadata": {
        "id": "L_J8hBww48i0"
      },
      "execution_count": null,
      "outputs": []
    },
    {
      "cell_type": "code",
      "source": [
        "input_dim = next(iter(train_loader))[0].shape[2]\n",
        "output_dim = 2\n",
        "n_layers = 2\n",
        "hidden_dim = 256\n",
        "\n",
        "lr = 0.0001\n",
        "n_epochs = 40\n",
        "iterations_per_epoch = len(train_loader)\n",
        "best_acc = 0.\n",
        "patience, trials = 15, 0\n",
        "\n",
        "model = LSTMNet(input_dim, hidden_dim, output_dim, n_layers).cuda()\n",
        "print(model)\n",
        "criterion = nn.CrossEntropyLoss().cuda()\n",
        "optimizer = torch.optim.Adam(model.parameters(), lr=lr)\n",
        "sched = CyclicLR(optimizer, cosine(t_max=iterations_per_epoch * 2, eta_min = lr/10))\n",
        "epoch_times = []"
      ],
      "metadata": {
        "colab": {
          "base_uri": "https://localhost:8080/"
        },
        "id": "jpcWGN344_Pr",
        "outputId": "d0ad8a03-a3c1-4eb0-e37d-095b78d692fd"
      },
      "execution_count": null,
      "outputs": [
        {
          "output_type": "stream",
          "name": "stdout",
          "text": [
            "LSTMNet(\n",
            "  (lstm): LSTM(3, 256, num_layers=2, batch_first=True)\n",
            "  (fc): Linear(in_features=256, out_features=2, bias=True)\n",
            "  (relu): ReLU()\n",
            ")\n"
          ]
        }
      ]
    },
    {
      "cell_type": "code",
      "source": [
        "print('Start model training')\n",
        "train_loss, train_acc = list(), list()\n",
        "for epoch in range(1, n_epochs + 1):\n",
        "    start_time = time.process_time()\n",
        "    for i, (X_batch, y_batch) in enumerate(train_loader):\n",
        "        model.train()\n",
        "        X_batch = X_batch.float().cuda()\n",
        "        y_batch = y_batch.cuda()\n",
        "        optimizer.zero_grad()\n",
        "        out = model(X_batch)\n",
        "        loss = criterion(out, y_batch)\n",
        "        loss.backward()\n",
        "        optimizer.step()\n",
        "        sched.step()\n",
        "    current_time = time.process_time()\n",
        "    epoch_times.append(current_time-start_time)\n",
        "    \n",
        "    model.eval()\n",
        "    correct, total = 0, 0\n",
        "    for x_val, y_val in valid_loader:\n",
        "        x_val, y_val = [t.cuda() for t in (x_val.float(), y_val)]\n",
        "        out = model(x_val)\n",
        "        preds = F.log_softmax(out, dim=1).argmax(dim=1)\n",
        "        total += y_val.size(0)\n",
        "        correct += (preds == y_val).sum().item()\n",
        "        \n",
        "    acc = correct / total\n",
        "    \n",
        "    train_loss.append(loss.item())\n",
        "    train_acc.append(acc)\n",
        "    \n",
        "    if epoch % 5 == 0:\n",
        "        print(f'Epoch: {epoch:3d}. Loss: {loss.item():.4f}. Acc.: {acc:2.2%}')\n",
        "        \n",
        "    if acc > best_acc:\n",
        "        trials = 0\n",
        "        best_acc = acc\n",
        "        torch.save(model.state_dict(), 'SmartFall_lstm.pth')\n",
        "        print(f'Epoch {epoch} best model saved with accuracy: {best_acc:2.2%}')\n",
        "    else:\n",
        "        trials += 1\n",
        "        if trials >= patience:\n",
        "            print(f'Early stopping on epoch {epoch}')\n",
        "            break\n",
        "print(\"Total Training Time: {} seconds\".format(str(sum(epoch_times))))"
      ],
      "metadata": {
        "colab": {
          "base_uri": "https://localhost:8080/"
        },
        "id": "QbjOscZP5Hx1",
        "outputId": "350d01fb-5492-4958-8b71-2c75ca7fc0e7"
      },
      "execution_count": null,
      "outputs": [
        {
          "output_type": "stream",
          "name": "stdout",
          "text": [
            "Start model training\n",
            "Epoch 1 best model saved with accuracy: 94.27%\n",
            "Epoch 3 best model saved with accuracy: 96.56%\n",
            "Epoch 4 best model saved with accuracy: 97.04%\n",
            "Epoch:   5. Loss: 0.0011. Acc.: 97.55%\n",
            "Epoch 5 best model saved with accuracy: 97.55%\n",
            "Epoch 6 best model saved with accuracy: 97.70%\n",
            "Epoch 7 best model saved with accuracy: 97.81%\n",
            "Epoch 8 best model saved with accuracy: 98.07%\n",
            "Epoch:  10. Loss: 0.0023. Acc.: 98.31%\n",
            "Epoch 10 best model saved with accuracy: 98.31%\n",
            "Epoch 12 best model saved with accuracy: 98.44%\n",
            "Epoch 14 best model saved with accuracy: 98.45%\n",
            "Epoch:  15. Loss: 0.0031. Acc.: 98.35%\n",
            "Epoch 16 best model saved with accuracy: 98.51%\n",
            "Epoch 19 best model saved with accuracy: 98.56%\n",
            "Epoch:  20. Loss: 0.0145. Acc.: 98.52%\n",
            "Epoch 22 best model saved with accuracy: 98.60%\n",
            "Epoch 24 best model saved with accuracy: 98.75%\n",
            "Epoch:  25. Loss: 0.1208. Acc.: 98.62%\n",
            "Epoch:  30. Loss: 0.0009. Acc.: 98.80%\n",
            "Epoch 30 best model saved with accuracy: 98.80%\n",
            "Epoch 32 best model saved with accuracy: 98.82%\n",
            "Epoch 34 best model saved with accuracy: 98.94%\n",
            "Epoch:  35. Loss: 0.0001. Acc.: 98.82%\n",
            "Epoch 38 best model saved with accuracy: 99.04%\n",
            "Epoch:  40. Loss: 0.0307. Acc.: 99.02%\n",
            "Total Training Time: 294.9640203750002 seconds\n"
          ]
        }
      ]
    },
    {
      "cell_type": "code",
      "source": [
        "plt.figure(figsize=(10, 3))\n",
        "plt.suptitle('LSTM Model', fontsize=20, y=1.1)\n",
        "plt.subplot(1, 2, 1)\n",
        "plt.plot(np.arange(len(train_loss)), train_loss)\n",
        "plt.yticks([0.0, 0.10, 0.20], fontsize=15)\n",
        "plt.xticks([0, 20, 40], fontsize=15)\n",
        "plt.title('Loss', fontsize=20)\n",
        "\n",
        "plt.subplot(1, 2, 2)\n",
        "plt.plot(np.arange(len(train_acc)), train_acc)\n",
        "plt.yticks([0.94, 0.96, 0.98, 1.0],fontsize=15)\n",
        "plt.xticks([0, 20, 40], fontsize=15)\n",
        "plt.title('Accuracy',fontsize=20)\n",
        "plt.subplots_adjust(hspace=1)\n",
        "\n",
        "plt.show()"
      ],
      "metadata": {
        "colab": {
          "base_uri": "https://localhost:8080/",
          "height": 264
        },
        "id": "ocE-v5FQ5RwQ",
        "outputId": "70452f5c-90fd-4540-8937-67d54a766d02"
      },
      "execution_count": null,
      "outputs": [
        {
          "output_type": "display_data",
          "data": {
            "text/plain": [
              "<Figure size 720x216 with 2 Axes>"
            ],
            "image/png": "[encoded data removed]"
          },
          "metadata": {
            "needs_background": "light"
          }
        }
      ]
    },
    {
      "cell_type": "code",
      "source": [
        "# evaluation with test dataset\n",
        "from sklearn.metrics import classification_report, confusion_matrix, accuracy_score\n",
        "\n",
        "targets = list()\n",
        "preds = list()\n",
        "correct = 0\n",
        "model.load_state_dict(torch.load('SmartFall_lstm.pth'))\n",
        "with torch.no_grad():\n",
        "    for X, y in test_loader:\n",
        "        X, y = X.cuda(), y.cuda()\n",
        "        output = model(X.float())\n",
        "        pred = output.max(1, keepdim=True)[1]\n",
        "        correct += pred.eq(y.view_as(pred)).sum().item()\n",
        "\n",
        "        targets += list(y.cpu().numpy())\n",
        "        preds += list(pred.cpu().numpy())\n",
        "\n",
        "test_acc = 100. * correct / len(test_loader.dataset)\n",
        "confusion_mtx = confusion_matrix(targets, preds)\n",
        "print(test_acc)"
      ],
      "metadata": {
        "colab": {
          "base_uri": "https://localhost:8080/"
        },
        "id": "ErPMMHPF5Uza",
        "outputId": "818da214-852d-489b-ba4c-0b8cec04e822"
      },
      "execution_count": null,
      "outputs": [
        {
          "output_type": "stream",
          "name": "stdout",
          "text": [
            "92.64614427860697\n"
          ]
        }
      ]
    },
    {
      "cell_type": "code",
      "source": [
        "import seaborn\n",
        "classes = ['adl','fall']\n",
        "ax = seaborn.heatmap(confusion_mtx, annot=True, fmt='d')\n",
        "ax.set_title(\"Lstm prediction\")\n",
        "ax.set_xlabel('Predicted values')\n",
        "ax.set_ylabel('Actual values')\n",
        "\n",
        "ax.xaxis.set_ticklabels(classes, rotation=90)\n",
        "ax.yaxis.set_ticklabels(classes, rotation=0)\n",
        "\n",
        "\n",
        "plt.show()"
      ],
      "metadata": {
        "colab": {
          "base_uri": "https://localhost:8080/",
          "height": 301
        },
        "id": "XsOcduQ--Gsj",
        "outputId": "7e8fece3-3016-4f95-9cc5-10034d901e6a"
      },
      "execution_count": null,
      "outputs": [
        {
          "output_type": "display_data",
          "data": {
            "text/plain": [
              "<Figure size 432x288 with 2 Axes>"
            ],
            "image/png": "[encoded data removed]"
          },
          "metadata": {
            "needs_background": "light"
          }
        }
      ]
    },
    {
      "cell_type": "code",
      "source": [
        "print(classification_report(targets, preds))"
      ],
      "metadata": {
        "colab": {
          "base_uri": "https://localhost:8080/"
        },
        "id": "rLoyW9cg5XT4",
        "outputId": "001706e5-57e8-4fd7-b496-59bcfcf7e73c"
      },
      "execution_count": null,
      "outputs": [
        {
          "output_type": "stream",
          "name": "stdout",
          "text": [
            "              precision    recall  f1-score   support\n",
            "\n",
            "           0       0.87      1.00      0.93      3216\n",
            "           1       1.00      0.86      0.92      3216\n",
            "\n",
            "    accuracy                           0.93      6432\n",
            "   macro avg       0.94      0.93      0.93      6432\n",
            "weighted avg       0.94      0.93      0.93      6432\n",
            "\n"
          ]
        }
      ]
    },
    {
      "cell_type": "code",
      "source": [
        "from sklearn.metrics import f1_score, recall_score, precision_score\n",
        "\n",
        "print('F1:' ,f1_score(targets, preds))\n",
        "print('Recall:' ,recall_score(targets, preds))\n",
        "print('Precision' ,precision_score(targets, preds))"
      ],
      "metadata": {
        "colab": {
          "base_uri": "https://localhost:8080/"
        },
        "id": "seFiDIxX5ZoS",
        "outputId": "e89cad71-e3c8-4e8c-8737-04286e37d598"
      },
      "execution_count": null,
      "outputs": [
        {
          "output_type": "stream",
          "name": "stdout",
          "text": [
            "F1: 0.9208633093525179\n",
            "Recall: 0.8557213930348259\n",
            "Precision 0.9967403114813473\n"
          ]
        }
      ]
    }
  ]
}